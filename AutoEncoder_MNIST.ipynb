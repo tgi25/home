{
  "nbformat": 4,
  "nbformat_minor": 0,
  "metadata": {
    "colab": {
      "name": "AutoEncoder_01.ipynb",
      "provenance": [],
      "include_colab_link": true
    },
    "kernelspec": {
      "display_name": "Python 3",
      "name": "python3"
    },
    "accelerator": "TPU",
    "language_info": {
      "name": "python"
    },
    "gpuClass": "standard"
  },
  "cells": [
    {
      "cell_type": "markdown",
      "metadata": {
        "id": "view-in-github",
        "colab_type": "text"
      },
      "source": [
        "<a href=\"https://colab.research.google.com/github/tgi25/home/blob/master/AutoEncoder_MNIST.ipynb\" target=\"_parent\"><img src=\"https://colab.research.google.com/assets/colab-badge.svg\" alt=\"Open In Colab\"/></a>"
      ]
    },
    {
      "metadata": {
        "id": "57-QhNh_dthX"
      },
      "cell_type": "markdown",
      "source": [
        "### Loading the MNIST dataset"
      ]
    },
    {
      "metadata": {
        "id": "xGav-JXpdthY",
        "colab": {
          "base_uri": "https://localhost:8080/"
        },
        "outputId": "eb85131c-bc0d-4978-c844-5b386295501e"
      },
      "cell_type": "code",
      "source": [
        "from tensorflow import keras\n",
        "from keras.datasets import mnist #importing the MNIST dataset\n",
        "(x_train, y_train), (x_test, y_test) = mnist.load_data()\n",
        "print (\"x_train shape = \", x_train.shape, \"y_train shape = \", y_train.shape)\n",
        "print (\"x_test shape = \", x_test.shape, \"y_test shape = \", y_test.shape)"
      ],
      "execution_count": 1,
      "outputs": [
        {
          "output_type": "stream",
          "name": "stdout",
          "text": [
            "x_train shape =  (60000, 28, 28) y_train shape =  (60000,)\n",
            "x_test shape =  (10000, 28, 28) y_test shape =  (10000,)\n"
          ]
        }
      ]
    },
    {
      "metadata": {
        "id": "zl9qmtV1dthe"
      },
      "cell_type": "markdown",
      "source": [
        "### Casting inputs to float32"
      ]
    },
    {
      "metadata": {
        "id": "76h8A6Lgdthe"
      },
      "cell_type": "code",
      "source": [
        "x_train = x_train.astype('float32')\n",
        "x_test  = x_test.astype('float32')"
      ],
      "execution_count": 2,
      "outputs": []
    },
    {
      "metadata": {
        "id": "20ePXOiEdthh"
      },
      "cell_type": "markdown",
      "source": [
        "### Reshaping inputs"
      ]
    },
    {
      "metadata": {
        "id": "LZxzllQVdthi",
        "colab": {
          "base_uri": "https://localhost:8080/"
        },
        "outputId": "d08bf665-feb3-4f8b-eb7c-e17b7c1f2b12"
      },
      "cell_type": "code",
      "source": [
        "INPUT_DIM = 784 #28 by 28\n",
        "\n",
        "x_train_reshape = x_train.reshape(60000, INPUT_DIM)\n",
        "x_test_reshape = x_test.reshape(10000, INPUT_DIM)\n",
        "print (x_train.shape, \"=>\", x_train_reshape.shape)\n",
        "print (x_test.shape,  \"=>\", x_test_reshape.shape)"
      ],
      "execution_count": 3,
      "outputs": [
        {
          "output_type": "stream",
          "name": "stdout",
          "text": [
            "(60000, 28, 28) => (60000, 784)\n",
            "(10000, 28, 28) => (10000, 784)\n"
          ]
        }
      ]
    },
    {
      "metadata": {
        "id": "AIKUYUVtdthl"
      },
      "cell_type": "markdown",
      "source": [
        "### Normalizing the inputs"
      ]
    },
    {
      "metadata": {
        "id": "ss3QxJfPdthm"
      },
      "cell_type": "code",
      "source": [
        "x_train_reshape /= 255\n",
        "x_test_reshape  /= 255"
      ],
      "execution_count": 4,
      "outputs": []
    },
    {
      "metadata": {
        "id": "pg2_AL6ddtho"
      },
      "cell_type": "markdown",
      "source": [
        "### Building the Autoencoder model"
      ]
    },
    {
      "metadata": {
        "id": "o22yphCrdtho",
        "colab": {
          "base_uri": "https://localhost:8080/"
        },
        "outputId": "b977d1ec-f48b-4fc7-a1ce-215b10ce8997"
      },
      "cell_type": "code",
      "source": [
        "from keras.models import Sequential\n",
        "from keras.layers import Dense, Activation\n",
        "\n",
        "ENCODING_DIM = 32\n",
        "autoencoder = Sequential()\n",
        "autoencoder.add(Dense(ENCODING_DIM, activation='relu', input_shape=(INPUT_DIM,)))\n",
        "autoencoder.add(Dense(INPUT_DIM, activation='sigmoid'))\n",
        "autoencoder.summary()"
      ],
      "execution_count": 5,
      "outputs": [
        {
          "output_type": "stream",
          "name": "stdout",
          "text": [
            "Model: \"sequential\"\n",
            "_________________________________________________________________\n",
            " Layer (type)                Output Shape              Param #   \n",
            "=================================================================\n",
            " dense (Dense)               (None, 32)                25120     \n",
            "                                                                 \n",
            " dense_1 (Dense)             (None, 784)               25872     \n",
            "                                                                 \n",
            "=================================================================\n",
            "Total params: 50,992\n",
            "Trainable params: 50,992\n",
            "Non-trainable params: 0\n",
            "_________________________________________________________________\n"
          ]
        }
      ]
    },
    {
      "metadata": {
        "id": "Fe-ksmzEdthr"
      },
      "cell_type": "markdown",
      "source": [
        "### Compiling the model"
      ]
    },
    {
      "metadata": {
        "id": "LAopf7Xmdths"
      },
      "cell_type": "code",
      "source": [
        "autoencoder.compile(optimizer='adam', loss='binary_crossentropy')"
      ],
      "execution_count": 6,
      "outputs": []
    },
    {
      "metadata": {
        "id": "AM-MKMh_dthu"
      },
      "cell_type": "markdown",
      "source": [
        "### Fitting the Autoencoder"
      ]
    },
    {
      "metadata": {
        "id": "hX76c4IBdthw",
        "colab": {
          "base_uri": "https://localhost:8080/"
        },
        "outputId": "2b82bdd9-3a65-406b-c5cb-782a44471be7"
      },
      "cell_type": "code",
      "source": [
        "autoencoder_history = autoencoder.fit(x=x_train_reshape, y=x_train_reshape,\n",
        "                                     epochs=10, batch_size=256,\n",
        "                                     shuffle=True,\n",
        "                                     verbose=2)"
      ],
      "execution_count": 7,
      "outputs": [
        {
          "output_type": "stream",
          "name": "stdout",
          "text": [
            "Epoch 1/10\n",
            "235/235 - 5s - loss: 0.2793 - 5s/epoch - 23ms/step\n",
            "Epoch 2/10\n",
            "235/235 - 4s - loss: 0.1733 - 4s/epoch - 19ms/step\n",
            "Epoch 3/10\n",
            "235/235 - 4s - loss: 0.1455 - 4s/epoch - 17ms/step\n",
            "Epoch 4/10\n",
            "235/235 - 4s - loss: 0.1292 - 4s/epoch - 19ms/step\n",
            "Epoch 5/10\n",
            "235/235 - 4s - loss: 0.1186 - 4s/epoch - 18ms/step\n",
            "Epoch 6/10\n",
            "235/235 - 3s - loss: 0.1114 - 3s/epoch - 12ms/step\n",
            "Epoch 7/10\n",
            "235/235 - 2s - loss: 0.1062 - 2s/epoch - 10ms/step\n",
            "Epoch 8/10\n",
            "235/235 - 2s - loss: 0.1024 - 2s/epoch - 10ms/step\n",
            "Epoch 9/10\n",
            "235/235 - 2s - loss: 0.0996 - 2s/epoch - 10ms/step\n",
            "Epoch 10/10\n",
            "235/235 - 2s - loss: 0.0975 - 2s/epoch - 9ms/step\n"
          ]
        }
      ]
    },
    {
      "metadata": {
        "id": "LIYXglsIdth5"
      },
      "cell_type": "markdown",
      "source": [
        "### Reconstructing the test images"
      ]
    },
    {
      "metadata": {
        "id": "8UsjwLgQdth7",
        "colab": {
          "base_uri": "https://localhost:8080/"
        },
        "outputId": "d432fda4-ee7e-463a-946d-fcacb3030076"
      },
      "cell_type": "code",
      "source": [
        "reconstructed_imgs = autoencoder.predict(x_test_reshape)\n",
        "print (\"Shape of reconstructed images = \", reconstructed_imgs.shape)"
      ],
      "execution_count": 8,
      "outputs": [
        {
          "output_type": "stream",
          "name": "stdout",
          "text": [
            "Shape of reconstructed images =  (10000, 784)\n"
          ]
        }
      ]
    },
    {
      "metadata": {
        "id": "zkUdeiEe29lS"
      },
      "cell_type": "markdown",
      "source": [
        "### Plotting the first 10 original and reconstructed images"
      ]
    },
    {
      "metadata": {
        "id": "-TgkSjhwdth_",
        "colab": {
          "base_uri": "https://localhost:8080/",
          "height": 248
        },
        "outputId": "3708c3ef-6cb0-43c1-8400-2184f6934b98"
      },
      "cell_type": "code",
      "source": [
        "import matplotlib.pyplot as plt\n",
        "\n",
        "n = 10  # how many digits we will display\n",
        "plt.figure(figsize=(20, 4))\n",
        "for i in range(n):\n",
        "    # display original\n",
        "    ax = plt.subplot(2, n, i + 1)\n",
        "    plt.imshow(x_test[i].reshape(28, 28))\n",
        "    plt.gray()\n",
        "    ax.get_xaxis().set_visible(False)\n",
        "    ax.get_yaxis().set_visible(False)\n",
        "\n",
        "    # display reconstruction\n",
        "    ax = plt.subplot(2, n, i + 1 + n)\n",
        "    plt.imshow(reconstructed_imgs[i].reshape(28, 28))\n",
        "    plt.gray()\n",
        "    ax.get_xaxis().set_visible(False)\n",
        "    ax.get_yaxis().set_visible(False)\n",
        "plt.show()"
      ],
      "execution_count": 9,
      "outputs": [
        {
          "output_type": "display_data",
          "data": {
            "text/plain": [
              "<Figure size 1440x288 with 20 Axes>"
            ],
            "image/png": "[encoded data removed]"
          },
          "metadata": {
            "needs_background": "light"
          }
        }
      ]
    },
    {
      "metadata": {
        "id": "J_BskCWJ1hb7"
      },
      "cell_type": "markdown",
      "source": [
        "\n",
        "\n",
        "---\n",
        "\n"
      ]
    },
    {
      "metadata": {
        "id": "hvUKxFqV0gKy"
      },
      "cell_type": "markdown",
      "source": [
        "### **Loading the FASHION_MNIST dataset** (Different from the MNIST dataset, but they are of same size (28*28))"
      ]
    },
    {
      "metadata": {
        "id": "YYCD_12Pu1ku",
        "colab": {
          "base_uri": "https://localhost:8080/"
        },
        "outputId": "4982249c-dd27-4a4e-8102-db7212df93d3"
      },
      "cell_type": "code",
      "source": [
        "from keras.datasets import fashion_mnist\n",
        "(x_train_fashion, y_train_fashion), (x_test_fashion, y_test_fashion) = fashion_mnist.load_data()\n",
        "print (x_train_fashion.shape)\n",
        "print (y_train_fashion.shape)"
      ],
      "execution_count": 10,
      "outputs": [
        {
          "output_type": "stream",
          "name": "stdout",
          "text": [
            "(60000, 28, 28)\n",
            "(60000,)\n"
          ]
        }
      ]
    },
    {
      "metadata": {
        "id": "deNe-Pue1Wfm"
      },
      "cell_type": "markdown",
      "source": [
        "### **Casting inputs to float32** **bold text**"
      ]
    },
    {
      "metadata": {
        "id": "fWpui6Y7xPrD"
      },
      "cell_type": "code",
      "source": [
        "x_train_fashion = x_train_fashion.astype('float32')\n",
        "x_test_fashion  = x_test_fashion.astype('float32')"
      ],
      "execution_count": 11,
      "outputs": []
    },
    {
      "metadata": {
        "id": "MZHnlSWB1oNd"
      },
      "cell_type": "markdown",
      "source": [
        "### **Reshaping inputs**"
      ]
    },
    {
      "metadata": {
        "id": "L_q1jbQ7xaxx",
        "colab": {
          "base_uri": "https://localhost:8080/"
        },
        "outputId": "705b80aa-6d0a-417e-8e6b-b18d2e932e8d"
      },
      "cell_type": "code",
      "source": [
        "INPUT_DIM = 784 #28 by 28\n",
        "\n",
        "x_train_fashion_reshape = x_train_fashion.reshape(60000, INPUT_DIM)\n",
        "x_test_fashion_reshape = x_test_fashion.reshape(10000, INPUT_DIM)\n",
        "print (x_train_fashion.shape, \"=>\", x_train_fashion_reshape.shape)\n",
        "print (x_test_fashion.shape,  \"=>\", x_test_fashion_reshape.shape)"
      ],
      "execution_count": 12,
      "outputs": [
        {
          "output_type": "stream",
          "name": "stdout",
          "text": [
            "(60000, 28, 28) => (60000, 784)\n",
            "(10000, 28, 28) => (10000, 784)\n"
          ]
        }
      ]
    },
    {
      "metadata": {
        "id": "1l3HwaCT1uaY"
      },
      "cell_type": "markdown",
      "source": [
        "### **Normalizing the inputs**"
      ]
    },
    {
      "metadata": {
        "id": "x0uLOTwYyHBi"
      },
      "cell_type": "code",
      "source": [
        "x_train_fashion_reshape /= 255\n",
        "x_test_fashion_reshape  /= 255"
      ],
      "execution_count": 13,
      "outputs": []
    },
    {
      "metadata": {
        "id": "w6lOpZEi1wSZ"
      },
      "cell_type": "markdown",
      "source": [
        "### **Reconstructing Test Dataset of the FASHION_MNIST**"
      ]
    },
    {
      "metadata": {
        "id": "siGeJlbwyXEN",
        "colab": {
          "base_uri": "https://localhost:8080/"
        },
        "outputId": "d8d24609-2323-4af1-989e-b05cb1c48a0e"
      },
      "cell_type": "code",
      "source": [
        "reconstructed_fashion_imgs = autoencoder.predict(x_test_fashion_reshape)\n",
        "print (\"Shape of reconstructed images = \", reconstructed_fashion_imgs.shape)"
      ],
      "execution_count": 14,
      "outputs": [
        {
          "output_type": "stream",
          "name": "stdout",
          "text": [
            "Shape of reconstructed images =  (10000, 784)\n"
          ]
        }
      ]
    },
    {
      "metadata": {
        "id": "RpmvWUis2PhL"
      },
      "cell_type": "markdown",
      "source": [
        "### Plotting the first 10 original and reconstructed images"
      ]
    },
    {
      "metadata": {
        "id": "-M8U8U79wlAH",
        "colab": {
          "base_uri": "https://localhost:8080/",
          "height": 248
        },
        "outputId": "f37a9de0-bd77-4af7-d5df-01aa25d3fdbf"
      },
      "cell_type": "code",
      "source": [
        "import matplotlib.pyplot as plt\n",
        "\n",
        "n = 10  # how many digits we will display\n",
        "plt.figure(figsize=(20, 4))\n",
        "for i in range(n):\n",
        "    # display original\n",
        "    ax = plt.subplot(2, n, i + 1)\n",
        "    plt.imshow(x_test_fashion[i].reshape(28, 28))\n",
        "    plt.gray()\n",
        "    ax.get_xaxis().set_visible(False)\n",
        "    ax.get_yaxis().set_visible(False)\n",
        "    \n",
        "    # display reconstruction\n",
        "    ax = plt.subplot(2, n, i + 1 + n)\n",
        "    plt.imshow(reconstructed_fashion_imgs[i].reshape(28, 28))\n",
        "    plt.gray()\n",
        "    ax.get_xaxis().set_visible(False)\n",
        "    ax.get_yaxis().set_visible(False)    \n",
        "plt.show()"
      ],
      "execution_count": 15,
      "outputs": [
        {
          "output_type": "display_data",
          "data": {
            "text/plain": [
              "<Figure size 1440x288 with 20 Axes>"
            ],
            "image/png": "[encoded data removed]"
          },
          "metadata": {
            "needs_background": "light"
          }
        }
      ]
    }
  ]
}