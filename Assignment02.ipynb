{
 "cells": [
  {
   "cell_type": "markdown",
   "metadata": {},
   "source": [
    "# CSC 610 2.0 Machine Learning - Assignment 02 "
   ]
  },
  {
   "cell_type": "markdown",
   "metadata": {},
   "source": [
    "## Index Number:"
   ]
  },
  {
   "cell_type": "raw",
   "metadata": {},
   "source": []
  },
  {
   "cell_type": "markdown",
   "metadata": {},
   "source": [
    "## Name:"
   ]
  },
  {
   "cell_type": "raw",
   "metadata": {},
   "source": []
  },
  {
   "cell_type": "markdown",
   "metadata": {},
   "source": [
    "## Instructions To Candidates:"
   ]
  },
  {
   "cell_type": "raw",
   "metadata": {},
   "source": [
    "1.\tThis assignment contains twenty two (22) tasks. \n",
    "2.\tThe total marks obtainable for this assignment is 100. The marks assigned for each task are included in square brackets.\n",
    "3.\tThis assignment accounts for 50% of the module assessment.\n",
    "4.\tTyped your index number and name in the given cells in the Jupyter notebook.\n",
    "5.\tYour answers should be typed in the given empty cells in the Jupyter notebook. Don’t type your answers in a different location in the notebook other than the given location.\n",
    "6.\tDon’t copy answers from your colleagues. In such a case, zero marks will be given to all candidates with the copied answers."
   ]
  },
  {
   "cell_type": "markdown",
   "metadata": {},
   "source": [
    "## Problem:"
   ]
  },
  {
   "cell_type": "raw",
   "metadata": {},
   "source": [
    "The data file “video_data.csv” contains the following details of YouTube videos:\n",
    "•\tNo of likes\n",
    "•\tNo of dislikes\n",
    "•\tNo of subscribers\n",
    "•\tNo of views\n",
    "It is needed to design machine learning models to predict the no of views given the no of likes, no of dislikes and no of subscribers."
   ]
  },
  {
   "cell_type": "markdown",
   "metadata": {},
   "source": [
    "## Downloading Jupyter notebook and renaming the notebook:"
   ]
  },
  {
   "cell_type": "raw",
   "metadata": {},
   "source": [
    "1.\tDownload a copy of the Jupyter notebook “Assignment02.ipynb”. Rename it as “Your_Index_No_Assignment02.ipynb” where “Your_Index_No” is the index number assigned you by the Faculty of Graduate Studies (FGS).\n",
    "2.\tOpen the Jupyter notebook in “Google CoLab” or “Anaconda.”"
   ]
  },
  {
   "cell_type": "markdown",
   "metadata": {},
   "source": [
    "## Tasks:"
   ]
  },
  {
   "cell_type": "raw",
   "metadata": {},
   "source": [
    "Write required codes in the empty code cell below each task and run them."
   ]
  },
  {
   "cell_type": "markdown",
   "metadata": {},
   "source": [
    "### 01. [05 marks] Import the required Python libraries to the notebook."
   ]
  },
  {
   "cell_type": "code",
   "execution_count": null,
   "metadata": {},
   "outputs": [],
   "source": []
  },
  {
   "cell_type": "markdown",
   "metadata": {},
   "source": [
    "### 02.\t[05 marks] Read the given data file (video_data.csv) into a Pandas data frame (name it as ‘df’)."
   ]
  },
  {
   "cell_type": "code",
   "execution_count": null,
   "metadata": {},
   "outputs": [],
   "source": []
  },
  {
   "cell_type": "markdown",
   "metadata": {},
   "source": [
    "### 03.\t[05 marks] Display the first five data points of the file using the “head()” function."
   ]
  },
  {
   "cell_type": "code",
   "execution_count": null,
   "metadata": {},
   "outputs": [],
   "source": []
  },
  {
   "cell_type": "markdown",
   "metadata": {},
   "source": [
    "### 04.\t[05 marks] Obtain the descriptive statistics of no of likes, no of dislikes, no of subscribers and no of views."
   ]
  },
  {
   "cell_type": "code",
   "execution_count": null,
   "metadata": {},
   "outputs": [],
   "source": []
  },
  {
   "cell_type": "markdown",
   "metadata": {},
   "source": [
    "### 05.\t[05 marks] Draw three (03) separate scatter plots that show the no of views against the no of likes, no of dislikes and no of subscribers."
   ]
  },
  {
   "cell_type": "code",
   "execution_count": null,
   "metadata": {},
   "outputs": [],
   "source": []
  },
  {
   "cell_type": "code",
   "execution_count": null,
   "metadata": {},
   "outputs": [],
   "source": []
  },
  {
   "cell_type": "code",
   "execution_count": null,
   "metadata": {},
   "outputs": [],
   "source": []
  },
  {
   "cell_type": "markdown",
   "metadata": {},
   "source": [
    "### 06.\t[05 marks] Split the dataset into two datasets for the training and testing. Use 80% for training and the remaining for the testing."
   ]
  },
  {
   "cell_type": "code",
   "execution_count": null,
   "metadata": {},
   "outputs": [],
   "source": []
  },
  {
   "cell_type": "markdown",
   "metadata": {},
   "source": [
    "### 07.\t[05 marks] Scale X data (no of likes, no of dislikes and no of subscribers) of the training dataset to mean 0 and standard deviation 1. Apply the same transformation to X data of the testing dataset."
   ]
  },
  {
   "cell_type": "code",
   "execution_count": null,
   "metadata": {},
   "outputs": [],
   "source": []
  },
  {
   "cell_type": "markdown",
   "metadata": {},
   "source": [
    "### 08.\t[05 marks] Design a linear regression model (name it as “model_reg”) using the training dataset. Use “Keras” Python library to design this model. Print a summary of the model that shows Layer, Output Shape, Number of parameters, etc."
   ]
  },
  {
   "cell_type": "raw",
   "metadata": {},
   "source": [
    "Note: Add “_reg” suffix to each variable you define for the regression model as in “model_reg” here after."
   ]
  },
  {
   "cell_type": "code",
   "execution_count": null,
   "metadata": {},
   "outputs": [],
   "source": []
  },
  {
   "cell_type": "markdown",
   "metadata": {},
   "source": [
    "### 09.\t[05 marks] Compile the model. Use “Adam” optimizer (instead of SGD) with the learning rate 10,000 and loss as mean squared error."
   ]
  },
  {
   "cell_type": "code",
   "execution_count": null,
   "metadata": {},
   "outputs": [],
   "source": []
  },
  {
   "cell_type": "markdown",
   "metadata": {},
   "source": [
    "### 10.\t[05 marks] Fit the model using the training dataset. Use batch size as 32, no of epochs as 1000 and verbose as 1."
   ]
  },
  {
   "cell_type": "code",
   "execution_count": null,
   "metadata": {},
   "outputs": [],
   "source": []
  },
  {
   "cell_type": "markdown",
   "metadata": {},
   "source": [
    "### 11.\t[03 marks] Plot the loss of the training process against the epochs."
   ]
  },
  {
   "cell_type": "code",
   "execution_count": null,
   "metadata": {},
   "outputs": [],
   "source": []
  },
  {
   "cell_type": "markdown",
   "metadata": {},
   "source": [
    "### 12.\t[03 marks] Find the predicted no of views for the training and testing datasets."
   ]
  },
  {
   "cell_type": "code",
   "execution_count": null,
   "metadata": {},
   "outputs": [],
   "source": []
  },
  {
   "cell_type": "markdown",
   "metadata": {},
   "source": [
    "### \t13. [05 marks] Draw two (02) scatter plots that show the predicted no of views against the original no of views for the training and testing datasets. Note that if your predicted values are closer to the original values, points of the plot scatter around the line y=x."
   ]
  },
  {
   "cell_type": "code",
   "execution_count": null,
   "metadata": {},
   "outputs": [],
   "source": []
  },
  {
   "cell_type": "code",
   "execution_count": null,
   "metadata": {},
   "outputs": [],
   "source": []
  },
  {
   "cell_type": "markdown",
   "metadata": {},
   "source": [
    "### \t14. [05 marks] Compute the R^2 values for these predicted no of views and original no of views for both training and testing datasets. Note that if your model is perfectly fitted, R^2 values should be close to 1."
   ]
  },
  {
   "cell_type": "code",
   "execution_count": null,
   "metadata": {},
   "outputs": [],
   "source": []
  },
  {
   "cell_type": "markdown",
   "metadata": {},
   "source": [
    "### 15.\t[05 marks] Design a neural network (name it as “model_dnn”) with 4 hidden layers, each layer contains 13 neurons. Use the “relu” activation function in the input and hidden layers. Print a summary of the model that shows Layer, Output Shape, Number of parameters, etc. "
   ]
  },
  {
   "cell_type": "raw",
   "metadata": {},
   "source": [
    "Note: Add “_dnn” suffix to each variable you define for the deep neural network model as in ‘model_dnn’ here after."
   ]
  },
  {
   "cell_type": "code",
   "execution_count": null,
   "metadata": {},
   "outputs": [],
   "source": []
  },
  {
   "cell_type": "markdown",
   "metadata": {},
   "source": [
    "### 16.\t[05 marks] Compile the model. Use “Adam” optimizer (instead of SGD) with the learning rate 0.003 and loss as mean squared error."
   ]
  },
  {
   "cell_type": "code",
   "execution_count": null,
   "metadata": {},
   "outputs": [],
   "source": []
  },
  {
   "cell_type": "markdown",
   "metadata": {},
   "source": [
    "### 17.\t[05 marks] Fit the model using the training dataset. Use batch size as 32, no of epochs as 1000 and verbose as 1."
   ]
  },
  {
   "cell_type": "code",
   "execution_count": null,
   "metadata": {},
   "outputs": [],
   "source": []
  },
  {
   "cell_type": "markdown",
   "metadata": {},
   "source": [
    "### 18.\t[02 marks] Plot the loss of the training process against the epochs."
   ]
  },
  {
   "cell_type": "code",
   "execution_count": null,
   "metadata": {},
   "outputs": [],
   "source": []
  },
  {
   "cell_type": "markdown",
   "metadata": {},
   "source": [
    "### 19.\t[02 marks] Find the predicted no of views for the training and testing datasets."
   ]
  },
  {
   "cell_type": "code",
   "execution_count": null,
   "metadata": {},
   "outputs": [],
   "source": []
  },
  {
   "cell_type": "markdown",
   "metadata": {},
   "source": [
    "### 20. [05 marks] Draw two (02) scatter plots that show the predicted no of views against the original no of views for the training and testing datasets. Note that if your predicted values are closer to the original values, points of the plot scatter around the line y=x."
   ]
  },
  {
   "cell_type": "code",
   "execution_count": null,
   "metadata": {},
   "outputs": [],
   "source": []
  },
  {
   "cell_type": "code",
   "execution_count": null,
   "metadata": {},
   "outputs": [],
   "source": []
  },
  {
   "cell_type": "markdown",
   "metadata": {},
   "source": [
    "### 21. [05 marks] Compute the R^2 values for these predicted no of views and original no of views for both training and testing datasets. Note that if your model is perfectly fitted, R^2 values should be close to 1."
   ]
  },
  {
   "cell_type": "code",
   "execution_count": null,
   "metadata": {},
   "outputs": [],
   "source": []
  },
  {
   "cell_type": "markdown",
   "metadata": {},
   "source": [
    "### 22.\t[05 marks] Discuss the results obtained from two models and explain which model is more appropriate for the problem."
   ]
  },
  {
   "cell_type": "raw",
   "metadata": {},
   "source": []
  },
  {
   "cell_type": "markdown",
   "metadata": {},
   "source": [
    "## END"
   ]
  }
 ],
 "metadata": {
  "kernelspec": {
   "display_name": "Python 2",
   "language": "python",
   "name": "python2"
  },
  "language_info": {
   "codemirror_mode": {
    "name": "ipython",
    "version": 2
   },
   "file_extension": ".py",
   "mimetype": "text/x-python",
   "name": "python",
   "nbconvert_exporter": "python",
   "pygments_lexer": "ipython2",
   "version": "2.7.16"
  }
 },
 "nbformat": 4,
 "nbformat_minor": 2
}
