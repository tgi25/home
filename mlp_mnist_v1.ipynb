{
  "cells": [
    {
      "cell_type": "markdown",
      "metadata": {
        "id": "wlQaIFgEFYuC"
      },
      "source": [
        "# Keras - Classifying MNIST dataset with MLP (Version 1)"
      ]
    },
    {
      "cell_type": "markdown",
      "metadata": {
        "id": "cgsO8XfFFYuE"
      },
      "source": [
        "From Wikipedia, the free encyclopedia (https://en.wikipedia.org/wiki/MNIST_database)\n",
        "\n",
        "The MNIST database (Modified National Institute of Standards and Technology database) is a large database of handwritten digits that is commonly used for training various image processing systems.The database is also widely used for training and testing in the field of machine learning. It was created by \"re-mixing\" the samples from NIST's original datasets. The creators felt that since NIST's training dataset was taken from American Census Bureau employees, while the testing dataset was taken from American high school students, it was not well-suited for machine learning experiments. Furthermore, the black and white images from NIST were normalized to fit into a 28x28 pixel bounding box and anti-aliased, which introduced grayscale levels.\n",
        "\n",
        "The MNIST database contains 60,000 training images and 10,000 testing images. Half of the training set and half of the test set were taken from NIST's training dataset, while the other half of the training set and the other half of the test set were taken from NIST's testing dataset. There have been a number of scientific papers on attempts to achieve the lowest error rate; one paper, using a hierarchical system of convolutional neural networks, manages to get an error rate on the MNIST database of 0.23 percent. The original creators of the database keep a list of some of the methods tested on it. In their original paper, they use a support vector machine to get an error rate of 0.8 percent.An extended dataset similar to MNIST called EMNIST has been published in 2017, which contains 240,000 training images, and 40,000 testing images of handwritten digits.\n",
        "\n",
        "THE MNIST DATABASE of handwritten digits - http://yann.lecun.com/exdb/mnist/"
      ]
    },
    {
      "cell_type": "markdown",
      "metadata": {
        "id": "4ZNVqzkfFYuF"
      },
      "source": [
        "### Loading the MNIST dataset"
      ]
    },
    {
      "cell_type": "code",
      "execution_count": 3,
      "metadata": {
        "id": "dM-4F7wFFYuG",
        "outputId": "af2d7d88-2e7c-4a1b-fd68-89ec8da0e4fd",
        "colab": {
          "base_uri": "https://localhost:8080/"
        }
      },
      "outputs": [
        {
          "output_type": "stream",
          "name": "stdout",
          "text": [
            "Downloading data from https://storage.googleapis.com/tensorflow/tf-keras-datasets/mnist.npz\n",
            "11493376/11490434 [==============================] - 0s 0us/step\n",
            "11501568/11490434 [==============================] - 0s 0us/step\n",
            "x_train shape =  (60000, 28, 28) y_train shape =  (60000,)\n",
            "x_test shape =  (10000, 28, 28) y_test shape =  (10000,)\n"
          ]
        }
      ],
      "source": [
        "from keras.datasets import mnist #importing the MNIST dataset\n",
        "(x_train, y_train), (x_test, y_test) = mnist.load_data()\n",
        "print (\"x_train shape = \", x_train.shape, \"y_train shape = \", y_train.shape)\n",
        "print (\"x_test shape = \", x_test.shape, \"y_test shape = \", y_test.shape)"
      ]
    },
    {
      "cell_type": "markdown",
      "metadata": {
        "id": "oP_o3xP2FYuH"
      },
      "source": [
        "### Plotting digits"
      ]
    },
    {
      "cell_type": "code",
      "execution_count": 4,
      "metadata": {
        "id": "ShmWyO5nFYuH",
        "outputId": "103e35b2-8c49-4a11-e977-cab28462a770",
        "colab": {
          "base_uri": "https://localhost:8080/",
          "height": 282
        }
      },
      "outputs": [
        {
          "output_type": "execute_result",
          "data": {
            "text/plain": [
              "<matplotlib.image.AxesImage at 0x7f5ac1c441d0>"
            ]
          },
          "metadata": {},
          "execution_count": 4
        },
        {
          "output_type": "display_data",
          "data": {
            "text/plain": [
              "<Figure size 432x288 with 1 Axes>"
            ],
            "image/png": "[encoded data removed]"
          },
          "metadata": {
            "needs_background": "light"
          }
        }
      ],
      "source": [
        "import matplotlib.pyplot as plt\n",
        "%matplotlib inline\n",
        "plt.imshow(x_train[0]) #plots the first digit stored in the training dataset"
      ]
    },
    {
      "cell_type": "code",
      "execution_count": 5,
      "metadata": {
        "id": "Er6pS7zYFYuI",
        "outputId": "6ab14507-f640-414a-b88c-fdcb1a9fc37e",
        "colab": {
          "base_uri": "https://localhost:8080/",
          "height": 282
        }
      },
      "outputs": [
        {
          "output_type": "execute_result",
          "data": {
            "text/plain": [
              "<matplotlib.image.AxesImage at 0x7f5ac172b250>"
            ]
          },
          "metadata": {},
          "execution_count": 5
        },
        {
          "output_type": "display_data",
          "data": {
            "text/plain": [
              "<Figure size 432x288 with 1 Axes>"
            ],
            "image/png": "[encoded data removed]"
          },
          "metadata": {
            "needs_background": "light"
          }
        }
      ],
      "source": [
        "plt.imshow(x_test[0]) #plots the first digit stored in the testing dataset"
      ]
    },
    {
      "cell_type": "markdown",
      "metadata": {
        "id": "0NPPXLKUFYuM"
      },
      "source": [
        "### Casting inputs to float32"
      ]
    },
    {
      "cell_type": "code",
      "execution_count": 6,
      "metadata": {
        "collapsed": true,
        "id": "ChSv6TDlFYuM"
      },
      "outputs": [],
      "source": [
        "x_train = x_train.astype('float32')\n",
        "x_test  = x_test.astype('float32')"
      ]
    },
    {
      "cell_type": "markdown",
      "metadata": {
        "id": "A4NSRoL1FYuO"
      },
      "source": [
        "### Reshaping inputs"
      ]
    },
    {
      "cell_type": "code",
      "execution_count": 8,
      "metadata": {
        "id": "WpQFvPyyFYuR",
        "outputId": "1b7865a2-3733-47c6-a94a-b842bf667c42",
        "colab": {
          "base_uri": "https://localhost:8080/"
        }
      },
      "outputs": [
        {
          "output_type": "stream",
          "name": "stdout",
          "text": [
            "(60000, 28, 28) => (60000, 784)\n",
            "(10000, 28, 28) => (10000, 784)\n"
          ]
        }
      ],
      "source": [
        "INPUT_DIM = 784 #28 by 28\n",
        "\n",
        "x_train_reshape = x_train.reshape(60000, INPUT_DIM)\n",
        "x_test_reshape = x_test.reshape(10000, INPUT_DIM)\n",
        "print (x_train.shape, \"=>\", x_train_reshape.shape)\n",
        "print (x_test.shape,  \"=>\", x_test_reshape.shape)"
      ]
    },
    {
      "cell_type": "markdown",
      "metadata": {
        "id": "L66idVbOFYuS"
      },
      "source": [
        "### Normalizing the inputs"
      ]
    },
    {
      "cell_type": "code",
      "execution_count": null,
      "metadata": {
        "collapsed": true,
        "id": "Jw8YspxPFYuS"
      },
      "outputs": [],
      "source": [
        "x_train_reshape /= 255\n",
        "x_test_reshape  /= 255"
      ]
    },
    {
      "cell_type": "markdown",
      "metadata": {
        "id": "_eeINR7-FYuT"
      },
      "source": [
        "### Converting labels to one-hot vectors"
      ]
    },
    {
      "cell_type": "code",
      "execution_count": null,
      "metadata": {
        "id": "NDxZjsAAFYuT",
        "outputId": "b8dada88-4dc8-42fe-c8ad-1f7731b4ec56"
      },
      "outputs": [
        {
          "name": "stdout",
          "output_type": "stream",
          "text": [
            "Dimension of y_train_one_hot =  (60000, 10)\n",
            "Dimension of y_test_one_hot  =  (10000, 10)\n",
            "5 => [ 0.  0.  0.  0.  0.  1.  0.  0.  0.  0.]\n",
            "7 => [ 0.  0.  0.  0.  0.  0.  0.  1.  0.  0.]\n"
          ]
        }
      ],
      "source": [
        "from keras.utils import np_utils\n",
        "\n",
        "NB_CLASSES = 10 # (number of classes)\n",
        "y_train_one_hot = np_utils.to_categorical(y_train, NB_CLASSES) #nb_classes = 10 (number of classes)\n",
        "y_test_one_hot  = np_utils.to_categorical(y_test, NB_CLASSES)\n",
        "print \"Dimension of y_train_one_hot = \", y_train_one_hot.shape\n",
        "print \"Dimension of y_test_one_hot  = \", y_test_one_hot.shape\n",
        "print y_train[0], \"=>\", y_train_one_hot[0]\n",
        "print y_test[0],  \"=>\", y_test_one_hot[0]"
      ]
    },
    {
      "cell_type": "markdown",
      "metadata": {
        "id": "HTnNzWweFYuU"
      },
      "source": [
        "### Building the MLP model"
      ]
    },
    {
      "cell_type": "code",
      "execution_count": null,
      "metadata": {
        "id": "oVz4kfBqFYuU",
        "outputId": "d0a1d9a0-c665-4b4c-d594-10422c712bd8"
      },
      "outputs": [
        {
          "name": "stdout",
          "output_type": "stream",
          "text": [
            "_________________________________________________________________\n",
            "Layer (type)                 Output Shape              Param #   \n",
            "=================================================================\n",
            "dense_20 (Dense)             (None, 512)               401920    \n",
            "_________________________________________________________________\n",
            "dense_21 (Dense)             (None, 10)                5130      \n",
            "=================================================================\n",
            "Total params: 407,050\n",
            "Trainable params: 407,050\n",
            "Non-trainable params: 0\n",
            "_________________________________________________________________\n"
          ]
        }
      ],
      "source": [
        "from keras.models import Sequential\n",
        "from keras.layers import Dense, Activation\n",
        "\n",
        "#MLP - One hidden layer (512 neurons) + Softmax layer (10 classes)\n",
        "model = Sequential()\n",
        "model.add(Dense(512, activation='relu', input_shape=(INPUT_DIM,)))\n",
        "model.add(Dense(10, activation='softmax'))\n",
        "model.summary()"
      ]
    },
    {
      "cell_type": "markdown",
      "metadata": {
        "id": "Hqj0W2dsFYuV"
      },
      "source": [
        "### Compiling the model"
      ]
    },
    {
      "cell_type": "code",
      "execution_count": null,
      "metadata": {
        "collapsed": true,
        "id": "X6O3TpMKFYuV"
      },
      "outputs": [],
      "source": [
        "from keras.optimizers import SGD\n",
        "\n",
        "OPTIMIZER = SGD(lr=0.1)\n",
        "model.compile(optimizer=OPTIMIZER, loss='categorical_crossentropy', metrics=['accuracy'])"
      ]
    },
    {
      "cell_type": "markdown",
      "metadata": {
        "id": "EzAwkUIBFYuV"
      },
      "source": [
        "### Fitting the model"
      ]
    },
    {
      "cell_type": "code",
      "execution_count": null,
      "metadata": {
        "id": "npnXWeBBFYuW",
        "outputId": "8fafd524-4bbb-4707-ca78-7e6c1a09f6d9"
      },
      "outputs": [
        {
          "name": "stdout",
          "output_type": "stream",
          "text": [
            "Train on 48000 samples, validate on 12000 samples\n",
            "Epoch 1/50\n",
            "48000/48000 [==============================] - 4s - loss: 0.4816 - acc: 0.8736 - val_loss: 0.2798 - val_acc: 0.9223\n",
            "Epoch 2/50\n",
            "48000/48000 [==============================] - 4s - loss: 0.2652 - acc: 0.9253 - val_loss: 0.2259 - val_acc: 0.9372\n",
            "Epoch 3/50\n",
            "48000/48000 [==============================] - 4s - loss: 0.2145 - acc: 0.9399 - val_loss: 0.1906 - val_acc: 0.9487\n",
            "Epoch 4/50\n",
            "48000/48000 [==============================] - 4s - loss: 0.1812 - acc: 0.9491 - val_loss: 0.1695 - val_acc: 0.9542\n",
            "Epoch 5/50\n",
            "48000/48000 [==============================] - 4s - loss: 0.1570 - acc: 0.9563 - val_loss: 0.1510 - val_acc: 0.9594\n",
            "Epoch 6/50\n",
            "48000/48000 [==============================] - 4s - loss: 0.1384 - acc: 0.9619 - val_loss: 0.1391 - val_acc: 0.9626\n",
            "Epoch 7/50\n",
            "48000/48000 [==============================] - 4s - loss: 0.1234 - acc: 0.9658 - val_loss: 0.1295 - val_acc: 0.9649\n",
            "Epoch 8/50\n",
            "48000/48000 [==============================] - 4s - loss: 0.1114 - acc: 0.9695 - val_loss: 0.1218 - val_acc: 0.9670\n",
            "Epoch 9/50\n",
            "48000/48000 [==============================] - 3s - loss: 0.1014 - acc: 0.9728 - val_loss: 0.1157 - val_acc: 0.9680\n",
            "Epoch 10/50\n",
            "48000/48000 [==============================] - 3s - loss: 0.0928 - acc: 0.9750 - val_loss: 0.1105 - val_acc: 0.9688\n",
            "Epoch 11/50\n",
            "48000/48000 [==============================] - 3s - loss: 0.0852 - acc: 0.9769 - val_loss: 0.1074 - val_acc: 0.9702\n",
            "Epoch 12/50\n",
            "48000/48000 [==============================] - 3s - loss: 0.0788 - acc: 0.9790 - val_loss: 0.1043 - val_acc: 0.9711\n",
            "Epoch 13/50\n",
            "48000/48000 [==============================] - 3s - loss: 0.0726 - acc: 0.9810 - val_loss: 0.0993 - val_acc: 0.9716\n",
            "Epoch 14/50\n",
            "48000/48000 [==============================] - 4s - loss: 0.0678 - acc: 0.9818 - val_loss: 0.0952 - val_acc: 0.9736\n",
            "Epoch 15/50\n",
            "48000/48000 [==============================] - 5s - loss: 0.0634 - acc: 0.9837 - val_loss: 0.0942 - val_acc: 0.9732\n",
            "Epoch 16/50\n",
            "48000/48000 [==============================] - 4s - loss: 0.0594 - acc: 0.9850 - val_loss: 0.0910 - val_acc: 0.9728\n",
            "Epoch 17/50\n",
            "48000/48000 [==============================] - 3s - loss: 0.0558 - acc: 0.9861 - val_loss: 0.0891 - val_acc: 0.9732\n",
            "Epoch 18/50\n",
            "48000/48000 [==============================] - 3s - loss: 0.0523 - acc: 0.9871 - val_loss: 0.0859 - val_acc: 0.9757\n",
            "Epoch 19/50\n",
            "48000/48000 [==============================] - 3s - loss: 0.0492 - acc: 0.9884 - val_loss: 0.0846 - val_acc: 0.9753\n",
            "Epoch 20/50\n",
            "48000/48000 [==============================] - 3s - loss: 0.0462 - acc: 0.9889 - val_loss: 0.0852 - val_acc: 0.9744\n",
            "Epoch 21/50\n",
            "48000/48000 [==============================] - 3s - loss: 0.0437 - acc: 0.9897 - val_loss: 0.0851 - val_acc: 0.9755\n",
            "Epoch 22/50\n",
            "48000/48000 [==============================] - 4s - loss: 0.0414 - acc: 0.9903 - val_loss: 0.0808 - val_acc: 0.9764\n",
            "Epoch 23/50\n",
            "48000/48000 [==============================] - 3s - loss: 0.0390 - acc: 0.9908 - val_loss: 0.0810 - val_acc: 0.9763\n",
            "Epoch 24/50\n",
            "48000/48000 [==============================] - 4s - loss: 0.0371 - acc: 0.9917 - val_loss: 0.0813 - val_acc: 0.9762\n",
            "Epoch 25/50\n",
            "48000/48000 [==============================] - 4s - loss: 0.0351 - acc: 0.9921 - val_loss: 0.0781 - val_acc: 0.9767\n",
            "Epoch 26/50\n",
            "48000/48000 [==============================] - 4s - loss: 0.0334 - acc: 0.9929 - val_loss: 0.0783 - val_acc: 0.9763\n",
            "Epoch 27/50\n",
            "48000/48000 [==============================] - 4s - loss: 0.0317 - acc: 0.9934 - val_loss: 0.0777 - val_acc: 0.9767\n",
            "Epoch 28/50\n",
            "48000/48000 [==============================] - 4s - loss: 0.0301 - acc: 0.9940 - val_loss: 0.0768 - val_acc: 0.9771\n",
            "Epoch 29/50\n",
            "48000/48000 [==============================] - 4s - loss: 0.0286 - acc: 0.9944 - val_loss: 0.0761 - val_acc: 0.9771\n",
            "Epoch 30/50\n",
            "48000/48000 [==============================] - 4s - loss: 0.0273 - acc: 0.9949 - val_loss: 0.0752 - val_acc: 0.9773\n",
            "Epoch 31/50\n",
            "48000/48000 [==============================] - 4s - loss: 0.0259 - acc: 0.9950 - val_loss: 0.0746 - val_acc: 0.9777\n",
            "Epoch 32/50\n",
            "48000/48000 [==============================] - 4s - loss: 0.0248 - acc: 0.9954 - val_loss: 0.0749 - val_acc: 0.9777\n",
            "Epoch 33/50\n",
            "48000/48000 [==============================] - 5s - loss: 0.0236 - acc: 0.9960 - val_loss: 0.0738 - val_acc: 0.9787\n",
            "Epoch 34/50\n",
            "48000/48000 [==============================] - 4s - loss: 0.0225 - acc: 0.9962 - val_loss: 0.0740 - val_acc: 0.9782\n",
            "Epoch 35/50\n",
            "48000/48000 [==============================] - 4s - loss: 0.0216 - acc: 0.9966 - val_loss: 0.0740 - val_acc: 0.9775\n",
            "Epoch 36/50\n",
            "48000/48000 [==============================] - 4s - loss: 0.0207 - acc: 0.9968 - val_loss: 0.0730 - val_acc: 0.9782\n",
            "Epoch 37/50\n",
            "48000/48000 [==============================] - 4s - loss: 0.0199 - acc: 0.9969 - val_loss: 0.0740 - val_acc: 0.9777\n",
            "Epoch 38/50\n",
            "48000/48000 [==============================] - 4s - loss: 0.0189 - acc: 0.9974 - val_loss: 0.0729 - val_acc: 0.9784\n",
            "Epoch 39/50\n",
            "48000/48000 [==============================] - 4s - loss: 0.0181 - acc: 0.9975 - val_loss: 0.0722 - val_acc: 0.9782\n",
            "Epoch 40/50\n",
            "48000/48000 [==============================] - 4s - loss: 0.0174 - acc: 0.9974 - val_loss: 0.0724 - val_acc: 0.9787\n",
            "Epoch 41/50\n",
            "48000/48000 [==============================] - 5s - loss: 0.0168 - acc: 0.9977 - val_loss: 0.0720 - val_acc: 0.9779\n",
            "Epoch 42/50\n",
            "48000/48000 [==============================] - 4s - loss: 0.0160 - acc: 0.9980 - val_loss: 0.0722 - val_acc: 0.9781\n",
            "Epoch 43/50\n",
            "48000/48000 [==============================] - 5s - loss: 0.0154 - acc: 0.9982 - val_loss: 0.0721 - val_acc: 0.9777\n",
            "Epoch 44/50\n",
            "48000/48000 [==============================] - 4s - loss: 0.0148 - acc: 0.9983 - val_loss: 0.0730 - val_acc: 0.9785\n",
            "Epoch 45/50\n",
            "48000/48000 [==============================] - 5s - loss: 0.0143 - acc: 0.9983 - val_loss: 0.0722 - val_acc: 0.9780\n",
            "Epoch 46/50\n",
            "48000/48000 [==============================] - 5s - loss: 0.0137 - acc: 0.9985 - val_loss: 0.0718 - val_acc: 0.9785\n",
            "Epoch 47/50\n",
            "48000/48000 [==============================] - 5s - loss: 0.0133 - acc: 0.9987 - val_loss: 0.0725 - val_acc: 0.9789\n",
            "Epoch 48/50\n",
            "48000/48000 [==============================] - 5s - loss: 0.0128 - acc: 0.9987 - val_loss: 0.0719 - val_acc: 0.9788\n",
            "Epoch 49/50\n",
            "48000/48000 [==============================] - 5s - loss: 0.0123 - acc: 0.9990 - val_loss: 0.0724 - val_acc: 0.9788\n",
            "Epoch 50/50\n",
            "48000/48000 [==============================] - 5s - loss: 0.0119 - acc: 0.9991 - val_loss: 0.0716 - val_acc: 0.9789\n"
          ]
        }
      ],
      "source": [
        "BATCH_SIZE = 128\n",
        "EPOCHES = 50\n",
        "VERBOSE = 1\n",
        "VALIDATION_SPLIT = 0.2\n",
        "\n",
        "model_history = model.fit(x=x_train_reshape, y=y_train_one_hot, batch_size=BATCH_SIZE, \n",
        "                          epochs=EPOCHES, verbose=VERBOSE, validation_split=VALIDATION_SPLIT)"
      ]
    },
    {
      "cell_type": "markdown",
      "metadata": {
        "id": "kTLSFZLrFYuW"
      },
      "source": [
        "### Evaluating the model"
      ]
    },
    {
      "cell_type": "code",
      "execution_count": null,
      "metadata": {
        "id": "dbMVLDtnFYuX",
        "outputId": "dcfc9312-f84f-4909-856d-29139afa6676"
      },
      "outputs": [
        {
          "name": "stdout",
          "output_type": "stream",
          "text": [
            "('Test score:', 0.063873417316447009)\n",
            "('Test accuracy:', 0.97970000000000002)\n"
          ]
        }
      ],
      "source": [
        "score = model.evaluate(x_test_reshape, y_test_one_hot, verbose=2) \n",
        "print('Test score:', score[0]) \n",
        "print('Test accuracy:', score[1])"
      ]
    },
    {
      "cell_type": "markdown",
      "metadata": {
        "id": "MvPPc__hFYuX"
      },
      "source": [
        "### Predicting the class"
      ]
    },
    {
      "cell_type": "code",
      "execution_count": null,
      "metadata": {
        "id": "53X-wttjFYuY",
        "outputId": "070ad3ea-dc3a-4363-e849-99d4c726fae8"
      },
      "outputs": [
        {
          "name": "stdout",
          "output_type": "stream",
          "text": [
            "True class =  7 Predicted class =  7\n"
          ]
        }
      ],
      "source": [
        "y_probability = model.predict(x_test_reshape)\n",
        "y_classes = y_probability.argmax(axis=-1)\n",
        "print \"True class = \", y_test[0], \"Predicted class = \", y_classes[0]"
      ]
    },
    {
      "cell_type": "markdown",
      "metadata": {
        "id": "LAhrZ4WaFYuZ"
      },
      "source": [
        "### Plotting the model performances"
      ]
    },
    {
      "cell_type": "code",
      "execution_count": null,
      "metadata": {
        "id": "HyMSGBq2FYuZ",
        "outputId": "a3d84d32-e332-483b-85ce-0ade08dfffba"
      },
      "outputs": [
        {
          "data": {
            "image/png": "[encoded data removed]",
            "text/plain": [
              "<matplotlib.figure.Figure at 0x7fad1d7db9d0>"
            ]
          },
          "metadata": {},
          "output_type": "display_data"
        },
        {
          "data": {
            "image/png": "[encoded data removed]",
            "text/plain": [
              "<matplotlib.figure.Figure at 0x7fad1dd595d0>"
            ]
          },
          "metadata": {},
          "output_type": "display_data"
        }
      ],
      "source": [
        "import matplotlib.pyplot as plt\n",
        "%matplotlib inline\n",
        "\n",
        "def plot_history(network_history):\n",
        "    plt.figure()\n",
        "    plt.xlabel('Epochs')\n",
        "    plt.ylabel('Loss')\n",
        "    plt.plot(network_history.history['loss'])\n",
        "    plt.plot(network_history.history['val_loss'])\n",
        "    plt.legend(['Training', 'Validation'])\n",
        "\n",
        "    plt.figure()\n",
        "    plt.xlabel('Epochs')\n",
        "    plt.ylabel('Accuracy')\n",
        "    plt.plot(network_history.history['acc'])\n",
        "    plt.plot(network_history.history['val_acc'])\n",
        "    plt.legend(['Training', 'Validation'], loc='lower right')\n",
        "    plt.show()\n",
        "\n",
        "plot_history(model_history)"
      ]
    },
    {
      "cell_type": "markdown",
      "metadata": {
        "id": "y7Ob2-dyFYuZ"
      },
      "source": [
        "### Saving the trained model and its weights"
      ]
    },
    {
      "cell_type": "code",
      "execution_count": null,
      "metadata": {
        "collapsed": true,
        "id": "SNGOvBDEFYua"
      },
      "outputs": [],
      "source": [
        "json_string = model.to_json() # as json \n",
        "open('mlp_mnist_v1_model.json', 'w').write(json_string)\n",
        "# save the weights in h5 format \n",
        "model.save_weights('mlp_mnist_v1_wts.h5')"
      ]
    },
    {
      "cell_type": "markdown",
      "metadata": {
        "id": "lYMhgq24FYua"
      },
      "source": [
        "### Retrieving a trained model and its weights"
      ]
    },
    {
      "cell_type": "code",
      "execution_count": null,
      "metadata": {
        "id": "P-nUGVqjFYua",
        "outputId": "010903ee-524c-4b1b-dc71-df9f7416a67d"
      },
      "outputs": [
        {
          "name": "stdout",
          "output_type": "stream",
          "text": [
            "_________________________________________________________________\n",
            "Layer (type)                 Output Shape              Param #   \n",
            "=================================================================\n",
            "dense_20 (Dense)             (None, 512)               401920    \n",
            "_________________________________________________________________\n",
            "dense_21 (Dense)             (None, 10)                5130      \n",
            "=================================================================\n",
            "Total params: 407,050\n",
            "Trainable params: 407,050\n",
            "Non-trainable params: 0\n",
            "_________________________________________________________________\n",
            "('Test score:', 0.063873417316447009)\n",
            "('Test accuracy:', 0.97970000000000002)\n",
            "True class =  7 Predicted class =  7\n"
          ]
        }
      ],
      "source": [
        "from keras.models import model_from_json\n",
        "model1 = model_from_json(open('mlp_mnist_v1_model.json').read())\n",
        "model1.load_weights('mlp_mnist_v1_wts.h5')\n",
        "model1.summary()\n",
        "model1.compile(optimizer='sgd', loss='categorical_crossentropy', metrics=['accuracy'])\n",
        "score = model1.evaluate(x_test_reshape, y_test_one_hot, verbose=0) \n",
        "print('Test score:', score[0]) \n",
        "print('Test accuracy:', score[1])\n",
        "\n",
        "y_probability = model.predict(x_test_reshape)\n",
        "y_classes = y_probability.argmax(axis=-1)\n",
        "print \"True class = \", y_test[0], \"Predicted class = \", y_classes[0]"
      ]
    }
  ],
  "metadata": {
    "kernelspec": {
      "display_name": "Python 2",
      "language": "python",
      "name": "python2"
    },
    "language_info": {
      "codemirror_mode": {
        "name": "ipython",
        "version": 2
      },
      "file_extension": ".py",
      "mimetype": "text/x-python",
      "name": "python",
      "nbconvert_exporter": "python",
      "pygments_lexer": "ipython2",
      "version": "2.7.13"
    },
    "colab": {
      "name": "mlp_mnist_v1.ipynb",
      "provenance": []
    }
  },
  "nbformat": 4,
  "nbformat_minor": 0
}