{
  "cells": [
    {
      "cell_type": "markdown",
      "metadata": {
        "id": "wlQaIFgEFYuC"
      },
      "source": [
        "# Keras - Classifying MNIST dataset with MLP (Version 1)"
      ]
    },
    {
      "cell_type": "markdown",
      "metadata": {
        "id": "cgsO8XfFFYuE"
      },
      "source": [
        "From Wikipedia, the free encyclopedia (https://en.wikipedia.org/wiki/MNIST_database)\n",
        "\n",
        "The MNIST database (Modified National Institute of Standards and Technology database) is a large database of handwritten digits that is commonly used for training various image processing systems.The database is also widely used for training and testing in the field of machine learning. It was created by \"re-mixing\" the samples from NIST's original datasets. The creators felt that since NIST's training dataset was taken from American Census Bureau employees, while the testing dataset was taken from American high school students, it was not well-suited for machine learning experiments. Furthermore, the black and white images from NIST were normalized to fit into a 28x28 pixel bounding box and anti-aliased, which introduced grayscale levels.\n",
        "\n",
        "The MNIST database contains 60,000 training images and 10,000 testing images. Half of the training set and half of the test set were taken from NIST's training dataset, while the other half of the training set and the other half of the test set were taken from NIST's testing dataset. There have been a number of scientific papers on attempts to achieve the lowest error rate; one paper, using a hierarchical system of convolutional neural networks, manages to get an error rate on the MNIST database of 0.23 percent. The original creators of the database keep a list of some of the methods tested on it. In their original paper, they use a support vector machine to get an error rate of 0.8 percent.An extended dataset similar to MNIST called EMNIST has been published in 2017, which contains 240,000 training images, and 40,000 testing images of handwritten digits.\n",
        "\n",
        "THE MNIST DATABASE of handwritten digits - http://yann.lecun.com/exdb/mnist/"
      ]
    },
    {
      "cell_type": "markdown",
      "metadata": {
        "id": "4ZNVqzkfFYuF"
      },
      "source": [
        "### Loading the MNIST dataset"
      ]
    },
    {
      "cell_type": "code",
      "source": [
        "from tensorflow import keras"
      ],
      "metadata": {
        "id": "ipUPlO2RSbc6"
      },
      "execution_count": 1,
      "outputs": []
    },
    {
      "cell_type": "code",
      "execution_count": 2,
      "metadata": {
        "id": "dM-4F7wFFYuG",
        "colab": {
          "base_uri": "https://localhost:8080/"
        },
        "outputId": "f77473c7-1938-4161-9ced-1f1347dd4cdc"
      },
      "outputs": [
        {
          "output_type": "stream",
          "name": "stdout",
          "text": [
            "Downloading data from https://storage.googleapis.com/tensorflow/tf-keras-datasets/mnist.npz\n",
            "11493376/11490434 [==============================] - 0s 0us/step\n",
            "11501568/11490434 [==============================] - 0s 0us/step\n",
            "x_train shape =  (60000, 28, 28) y_train shape =  (60000,)\n",
            "x_test shape =  (10000, 28, 28) y_test shape =  (10000,)\n"
          ]
        }
      ],
      "source": [
        "from keras.datasets import mnist #importing the MNIST dataset\n",
        "(x_train, y_train), (x_test, y_test) = mnist.load_data()\n",
        "print (\"x_train shape = \", x_train.shape, \"y_train shape = \", y_train.shape)\n",
        "print (\"x_test shape = \", x_test.shape, \"y_test shape = \", y_test.shape)"
      ]
    },
    {
      "cell_type": "markdown",
      "metadata": {
        "id": "oP_o3xP2FYuH"
      },
      "source": [
        "### Plotting digits"
      ]
    },
    {
      "cell_type": "code",
      "execution_count": 11,
      "metadata": {
        "id": "ShmWyO5nFYuH",
        "colab": {
          "base_uri": "https://localhost:8080/",
          "height": 282
        },
        "outputId": "3234df21-2621-4342-caff-34088a35a19e"
      },
      "outputs": [
        {
          "output_type": "stream",
          "name": "stdout",
          "text": [
            "5\n"
          ]
        },
        {
          "output_type": "display_data",
          "data": {
            "text/plain": [
              "<Figure size 432x288 with 1 Axes>"
            ],
            "image/png": "[encoded data removed]"
          },
          "metadata": {
            "needs_background": "light"
          }
        }
      ],
      "source": [
        "import matplotlib.pyplot as plt\n",
        "%matplotlib inline\n",
        "plt.imshow(x_train[0]) #plots the first digit stored in the training dataset\n",
        "print(y_train[0])"
      ]
    },
    {
      "cell_type": "code",
      "execution_count": 12,
      "metadata": {
        "id": "Er6pS7zYFYuI",
        "colab": {
          "base_uri": "https://localhost:8080/",
          "height": 282
        },
        "outputId": "47cb14fa-f8de-4ca4-c7ac-7ec0dfb56563"
      },
      "outputs": [
        {
          "output_type": "stream",
          "name": "stdout",
          "text": [
            "7\n"
          ]
        },
        {
          "output_type": "display_data",
          "data": {
            "text/plain": [
              "<Figure size 432x288 with 1 Axes>"
            ],
            "image/png": "[encoded data removed]"
          },
          "metadata": {
            "needs_background": "light"
          }
        }
      ],
      "source": [
        "plt.imshow(x_test[0]) #plots the first digit stored in the testing dataset\n",
        "print(y_test[0])"
      ]
    },
    {
      "cell_type": "markdown",
      "metadata": {
        "id": "0NPPXLKUFYuM"
      },
      "source": [
        "### Casting inputs to float32"
      ]
    },
    {
      "cell_type": "code",
      "execution_count": 13,
      "metadata": {
        "collapsed": true,
        "id": "ChSv6TDlFYuM"
      },
      "outputs": [],
      "source": [
        "x_train = x_train.astype('float32')\n",
        "x_test  = x_test.astype('float32')"
      ]
    },
    {
      "cell_type": "markdown",
      "metadata": {
        "id": "A4NSRoL1FYuO"
      },
      "source": [
        "### Reshaping inputs"
      ]
    },
    {
      "cell_type": "code",
      "execution_count": 19,
      "metadata": {
        "id": "WpQFvPyyFYuR",
        "colab": {
          "base_uri": "https://localhost:8080/"
        },
        "outputId": "095155f5-9110-4fc4-d0c4-260a765cac3d"
      },
      "outputs": [
        {
          "output_type": "stream",
          "name": "stdout",
          "text": [
            "(60000, 28, 28) => (60000, 784)\n",
            "(10000, 28, 28) => (10000, 784)\n"
          ]
        }
      ],
      "source": [
        "INPUT_DIM = 784 #28 by 28\n",
        "\n",
        "x_train_reshape = x_train.reshape(60000, INPUT_DIM)\n",
        "x_test_reshape = x_test.reshape(10000, INPUT_DIM)\n",
        "print (x_train.shape, \"=>\", x_train_reshape.shape)\n",
        "print (x_test.shape,  \"=>\", x_test_reshape.shape)"
      ]
    },
    {
      "cell_type": "markdown",
      "metadata": {
        "id": "L66idVbOFYuS"
      },
      "source": [
        "### Normalizing the inputs"
      ]
    },
    {
      "cell_type": "code",
      "execution_count": 21,
      "metadata": {
        "collapsed": true,
        "id": "Jw8YspxPFYuS"
      },
      "outputs": [],
      "source": [
        "x_train_reshape /= 255\n",
        "x_test_reshape  /= 255"
      ]
    },
    {
      "cell_type": "markdown",
      "metadata": {
        "id": "_eeINR7-FYuT"
      },
      "source": [
        "### Converting labels to one-hot vectors"
      ]
    },
    {
      "cell_type": "code",
      "execution_count": 22,
      "metadata": {
        "id": "NDxZjsAAFYuT",
        "colab": {
          "base_uri": "https://localhost:8080/"
        },
        "outputId": "86576c74-63b8-45b5-b4e7-0e49af59374e"
      },
      "outputs": [
        {
          "output_type": "stream",
          "name": "stdout",
          "text": [
            "Dimension of y_train_one_hot =  (60000, 10)\n",
            "Dimension of y_test_one_hot  =  (10000, 10)\n",
            "5 => [0. 0. 0. 0. 0. 1. 0. 0. 0. 0.]\n",
            "7 => [0. 0. 0. 0. 0. 0. 0. 1. 0. 0.]\n"
          ]
        }
      ],
      "source": [
        "from keras.utils import np_utils\n",
        "\n",
        "NB_CLASSES = 10 # (number of classes)\n",
        "y_train_one_hot = np_utils.to_categorical(y_train, NB_CLASSES) #nb_classes = 10 (number of classes)\n",
        "y_test_one_hot  = np_utils.to_categorical(y_test, NB_CLASSES)\n",
        "print (\"Dimension of y_train_one_hot = \", y_train_one_hot.shape)\n",
        "print (\"Dimension of y_test_one_hot  = \", y_test_one_hot.shape)\n",
        "print (y_train[0], \"=>\", y_train_one_hot[0])\n",
        "print (y_test[0],  \"=>\", y_test_one_hot[0])"
      ]
    },
    {
      "cell_type": "markdown",
      "metadata": {
        "id": "HTnNzWweFYuU"
      },
      "source": [
        "### Building the MLP model"
      ]
    },
    {
      "cell_type": "code",
      "execution_count": 23,
      "metadata": {
        "id": "oVz4kfBqFYuU",
        "colab": {
          "base_uri": "https://localhost:8080/"
        },
        "outputId": "a1626707-2e99-4950-c325-8a07fce36961"
      },
      "outputs": [
        {
          "output_type": "stream",
          "name": "stdout",
          "text": [
            "Model: \"sequential\"\n",
            "_________________________________________________________________\n",
            " Layer (type)                Output Shape              Param #   \n",
            "=================================================================\n",
            " dense (Dense)               (None, 512)               401920    \n",
            "                                                                 \n",
            " dense_1 (Dense)             (None, 10)                5130      \n",
            "                                                                 \n",
            "=================================================================\n",
            "Total params: 407,050\n",
            "Trainable params: 407,050\n",
            "Non-trainable params: 0\n",
            "_________________________________________________________________\n"
          ]
        }
      ],
      "source": [
        "from keras.models import Sequential\n",
        "from keras.layers import Dense, Activation\n",
        "\n",
        "#MLP - One hidden layer (512 neurons) + Softmax layer (10 classes)\n",
        "model = Sequential()\n",
        "model.add(Dense(512, activation='relu', input_shape=(INPUT_DIM,)))\n",
        "model.add(Dense(10, activation='softmax'))\n",
        "model.summary()"
      ]
    },
    {
      "cell_type": "markdown",
      "metadata": {
        "id": "Hqj0W2dsFYuV"
      },
      "source": [
        "### Compiling the model"
      ]
    },
    {
      "cell_type": "code",
      "execution_count": 25,
      "metadata": {
        "id": "X6O3TpMKFYuV"
      },
      "outputs": [],
      "source": [
        "#from tensorflow.keras.optimizers import SGD\n",
        "\n",
        "OPTIMIZER = keras.optimizers.SGD(learning_rate=0.1)\n",
        "model.compile(optimizer=OPTIMIZER, loss='categorical_crossentropy', metrics=['accuracy'])"
      ]
    },
    {
      "cell_type": "markdown",
      "metadata": {
        "id": "EzAwkUIBFYuV"
      },
      "source": [
        "### Fitting the model"
      ]
    },
    {
      "cell_type": "code",
      "execution_count": 26,
      "metadata": {
        "id": "npnXWeBBFYuW",
        "colab": {
          "base_uri": "https://localhost:8080/"
        },
        "outputId": "e5ccb3e8-938b-45cc-80b7-afab717c745f"
      },
      "outputs": [
        {
          "output_type": "stream",
          "name": "stdout",
          "text": [
            "Epoch 1/10\n",
            "375/375 [==============================] - 4s 9ms/step - loss: 0.4770 - accuracy: 0.8758 - val_loss: 0.2849 - val_accuracy: 0.9197\n",
            "Epoch 2/10\n",
            "375/375 [==============================] - 3s 8ms/step - loss: 0.2657 - accuracy: 0.9256 - val_loss: 0.2252 - val_accuracy: 0.9377\n",
            "Epoch 3/10\n",
            "375/375 [==============================] - 3s 8ms/step - loss: 0.2155 - accuracy: 0.9398 - val_loss: 0.1922 - val_accuracy: 0.9466\n",
            "Epoch 4/10\n",
            "375/375 [==============================] - 3s 8ms/step - loss: 0.1825 - accuracy: 0.9489 - val_loss: 0.1687 - val_accuracy: 0.9537\n",
            "Epoch 5/10\n",
            "375/375 [==============================] - 3s 8ms/step - loss: 0.1579 - accuracy: 0.9556 - val_loss: 0.1571 - val_accuracy: 0.9570\n",
            "Epoch 6/10\n",
            "375/375 [==============================] - 3s 8ms/step - loss: 0.1393 - accuracy: 0.9607 - val_loss: 0.1450 - val_accuracy: 0.9603\n",
            "Epoch 7/10\n",
            "375/375 [==============================] - 3s 8ms/step - loss: 0.1248 - accuracy: 0.9653 - val_loss: 0.1289 - val_accuracy: 0.9639\n",
            "Epoch 8/10\n",
            "375/375 [==============================] - 3s 8ms/step - loss: 0.1121 - accuracy: 0.9695 - val_loss: 0.1215 - val_accuracy: 0.9649\n",
            "Epoch 9/10\n",
            "375/375 [==============================] - 3s 8ms/step - loss: 0.1022 - accuracy: 0.9728 - val_loss: 0.1156 - val_accuracy: 0.9675\n",
            "Epoch 10/10\n",
            "375/375 [==============================] - 3s 8ms/step - loss: 0.0936 - accuracy: 0.9747 - val_loss: 0.1092 - val_accuracy: 0.9692\n"
          ]
        }
      ],
      "source": [
        "BATCH_SIZE = 128\n",
        "EPOCHES = 10\n",
        "VERBOSE = 1\n",
        "VALIDATION_SPLIT = 0.2\n",
        "\n",
        "model_history = model.fit(x=x_train_reshape, y=y_train_one_hot, batch_size=BATCH_SIZE, \n",
        "                          epochs=EPOCHES, verbose=VERBOSE, validation_split=VALIDATION_SPLIT)"
      ]
    },
    {
      "cell_type": "markdown",
      "metadata": {
        "id": "kTLSFZLrFYuW"
      },
      "source": [
        "### Evaluating the model"
      ]
    },
    {
      "cell_type": "code",
      "execution_count": 27,
      "metadata": {
        "id": "dbMVLDtnFYuX",
        "colab": {
          "base_uri": "https://localhost:8080/"
        },
        "outputId": "0a38097a-56d5-4475-9b7d-ceb5c405e0f8"
      },
      "outputs": [
        {
          "output_type": "stream",
          "name": "stdout",
          "text": [
            "313/313 - 1s - loss: 0.1047 - accuracy: 0.9700 - 623ms/epoch - 2ms/step\n",
            "Test score: 0.1047026515007019\n",
            "Test accuracy: 0.9700000286102295\n"
          ]
        }
      ],
      "source": [
        "score = model.evaluate(x_test_reshape, y_test_one_hot, verbose=2) \n",
        "print('Test score:', score[0]) \n",
        "print('Test accuracy:', score[1])"
      ]
    },
    {
      "cell_type": "markdown",
      "metadata": {
        "id": "MvPPc__hFYuX"
      },
      "source": [
        "### Predicting the class"
      ]
    },
    {
      "cell_type": "code",
      "execution_count": 28,
      "metadata": {
        "id": "53X-wttjFYuY",
        "colab": {
          "base_uri": "https://localhost:8080/"
        },
        "outputId": "6c0cb742-bc33-4a9f-9849-4148540aacf4"
      },
      "outputs": [
        {
          "output_type": "stream",
          "name": "stdout",
          "text": [
            "True class =  7 Predicted class =  7\n"
          ]
        }
      ],
      "source": [
        "y_probability = model.predict(x_test_reshape)\n",
        "y_classes = y_probability.argmax(axis=-1)\n",
        "print (\"True class = \", y_test[0], \"Predicted class = \", y_classes[0])"
      ]
    },
    {
      "cell_type": "markdown",
      "metadata": {
        "id": "LAhrZ4WaFYuZ"
      },
      "source": [
        "### Plotting the model performances"
      ]
    },
    {
      "cell_type": "code",
      "execution_count": 29,
      "metadata": {
        "id": "HyMSGBq2FYuZ",
        "colab": {
          "base_uri": "https://localhost:8080/",
          "height": 541
        },
        "outputId": "11c29569-4679-4e35-a54c-028e891c7c41"
      },
      "outputs": [
        {
          "output_type": "display_data",
          "data": {
            "text/plain": [
              "<Figure size 432x288 with 1 Axes>"
            ],
            "image/png": "[encoded data removed]"
          },
          "metadata": {
            "needs_background": "light"
          }
        },
        {
          "output_type": "display_data",
          "data": {
            "text/plain": [
              "<Figure size 432x288 with 1 Axes>"
            ],
            "image/png": "[encoded data removed]"
          },
          "metadata": {
            "needs_background": "light"
          }
        }
      ],
      "source": [
        "import matplotlib.pyplot as plt\n",
        "%matplotlib inline\n",
        "\n",
        "def plot_history(network_history):\n",
        "    plt.figure()\n",
        "    plt.xlabel('Epochs')\n",
        "    plt.ylabel('Loss')\n",
        "    plt.plot(network_history.history['loss'])\n",
        "    plt.plot(network_history.history['val_loss'])\n",
        "    plt.legend(['Training', 'Validation'])\n",
        "\n",
        "    plt.figure()\n",
        "    plt.xlabel('Epochs')\n",
        "    plt.ylabel('Accuracy')\n",
        "    plt.plot(network_history.history['accuracy'])\n",
        "    plt.plot(network_history.history['val_accuracy'])\n",
        "    plt.legend(['Training', 'Validation'], loc='lower right')\n",
        "    plt.show()\n",
        "\n",
        "plot_history(model_history)"
      ]
    },
    {
      "cell_type": "markdown",
      "metadata": {
        "id": "y7Ob2-dyFYuZ"
      },
      "source": [
        "### Saving the trained model and its weights"
      ]
    },
    {
      "cell_type": "code",
      "execution_count": 30,
      "metadata": {
        "collapsed": true,
        "id": "SNGOvBDEFYua"
      },
      "outputs": [],
      "source": [
        "json_string = model.to_json() # as json \n",
        "open('mlp_mnist_v1_model.json', 'w').write(json_string)\n",
        "# save the weights in h5 format \n",
        "model.save_weights('mlp_mnist_v1_wts.h5')"
      ]
    },
    {
      "cell_type": "markdown",
      "metadata": {
        "id": "lYMhgq24FYua"
      },
      "source": [
        "### Retrieving a trained model and its weights"
      ]
    },
    {
      "cell_type": "code",
      "execution_count": 31,
      "metadata": {
        "id": "P-nUGVqjFYua",
        "colab": {
          "base_uri": "https://localhost:8080/"
        },
        "outputId": "a81c3cbd-fde3-461b-88f0-ba414851a348"
      },
      "outputs": [
        {
          "output_type": "stream",
          "name": "stdout",
          "text": [
            "Model: \"sequential\"\n",
            "_________________________________________________________________\n",
            " Layer (type)                Output Shape              Param #   \n",
            "=================================================================\n",
            " dense (Dense)               (None, 512)               401920    \n",
            "                                                                 \n",
            " dense_1 (Dense)             (None, 10)                5130      \n",
            "                                                                 \n",
            "=================================================================\n",
            "Total params: 407,050\n",
            "Trainable params: 407,050\n",
            "Non-trainable params: 0\n",
            "_________________________________________________________________\n",
            "Test score: 0.1047026515007019\n",
            "Test accuracy: 0.9700000286102295\n",
            "True class =  7 Predicted class =  7\n"
          ]
        }
      ],
      "source": [
        "from keras.models import model_from_json\n",
        "model1 = model_from_json(open('mlp_mnist_v1_model.json').read())\n",
        "model1.load_weights('mlp_mnist_v1_wts.h5')\n",
        "model1.summary()\n",
        "model1.compile(optimizer='sgd', loss='categorical_crossentropy', metrics=['accuracy'])\n",
        "score = model1.evaluate(x_test_reshape, y_test_one_hot, verbose=0) \n",
        "print('Test score:', score[0]) \n",
        "print('Test accuracy:', score[1])\n",
        "\n",
        "y_probability = model.predict(x_test_reshape)\n",
        "y_classes = y_probability.argmax(axis=-1)\n",
        "print (\"True class = \", y_test[0], \"Predicted class = \", y_classes[0])"
      ]
    }
  ],
  "metadata": {
    "kernelspec": {
      "display_name": "Python 2",
      "language": "python",
      "name": "python2"
    },
    "language_info": {
      "codemirror_mode": {
        "name": "ipython",
        "version": 2
      },
      "file_extension": ".py",
      "mimetype": "text/x-python",
      "name": "python",
      "nbconvert_exporter": "python",
      "pygments_lexer": "ipython2",
      "version": "2.7.13"
    },
    "colab": {
      "name": "mlp_mnist_v1.ipynb",
      "provenance": []
    }
  },
  "nbformat": 4,
  "nbformat_minor": 0
}