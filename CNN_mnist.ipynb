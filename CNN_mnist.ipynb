{
  "nbformat": 4,
  "nbformat_minor": 0,
  "metadata": {
    "colab": {
      "name": "CNN_mnist.ipynb",
      "provenance": [],
      "collapsed_sections": []
    },
    "language_info": {
      "name": "python"
    },
    "kernelspec": {
      "name": "python3",
      "display_name": "Python 3"
    },
    "accelerator": "TPU",
    "gpuClass": "standard"
  },
  "cells": [
    {
      "cell_type": "markdown",
      "metadata": {
        "id": "dl8gU9GOty21"
      },
      "source": [
        "# Keras - Classifying MNIST dataset with CNN"
      ]
    },
    {
      "cell_type": "markdown",
      "metadata": {
        "id": "q_UWJysWty27"
      },
      "source": [
        "From Wikipedia, the free encyclopedia (https://en.wikipedia.org/wiki/MNIST_database)\n",
        "\n",
        "The MNIST database (Modified National Institute of Standards and Technology database) is a large database of handwritten digits that is commonly used for training various image processing systems.The database is also widely used for training and testing in the field of machine learning. It was created by \"re-mixing\" the samples from NIST's original datasets. The creators felt that since NIST's training dataset was taken from American Census Bureau employees, while the testing dataset was taken from American high school students, it was not well-suited for machine learning experiments. Furthermore, the black and white images from NIST were normalized to fit into a 28x28 pixel bounding box and anti-aliased, which introduced grayscale levels.\n",
        "\n",
        "The MNIST database contains 60,000 training images and 10,000 testing images. Half of the training set and half of the test set were taken from NIST's training dataset, while the other half of the training set and the other half of the test set were taken from NIST's testing dataset. There have been a number of scientific papers on attempts to achieve the lowest error rate; one paper, using a hierarchical system of convolutional neural networks, manages to get an error rate on the MNIST database of 0.23 percent. The original creators of the database keep a list of some of the methods tested on it. In their original paper, they use a support vector machine to get an error rate of 0.8 percent.An extended dataset similar to MNIST called EMNIST has been published in 2017, which contains 240,000 training images, and 40,000 testing images of handwritten digits.\n",
        "\n",
        "THE MNIST DATABASE of handwritten digits - http://yann.lecun.com/exdb/mnist/"
      ]
    },
    {
      "cell_type": "markdown",
      "metadata": {
        "id": "jb2UL5Dvty29"
      },
      "source": [
        "### Loading the MNIST dataset"
      ]
    },
    {
      "cell_type": "code",
      "metadata": {
        "id": "JWshYbqVty3B",
        "outputId": "75ac98b4-28cc-4be3-c171-b295e59a67d7",
        "colab": {
          "base_uri": "https://localhost:8080/"
        }
      },
      "source": [
        "from tensorflow import keras\n",
        "from keras.datasets import mnist #importing the MNIST dataset\n",
        "(x_train, y_train), (x_test, y_test) = mnist.load_data()\n",
        "print (\"x_train shape = \", x_train.shape, \"y_train shape = \", y_train.shape)\n",
        "print (\"x_test shape = \", x_test.shape, \"y_test shape = \", y_test.shape)"
      ],
      "execution_count": 12,
      "outputs": [
        {
          "output_type": "stream",
          "name": "stdout",
          "text": [
            "x_train shape =  (60000, 28, 28) y_train shape =  (60000,)\n",
            "x_test shape =  (10000, 28, 28) y_test shape =  (10000,)\n"
          ]
        }
      ]
    },
    {
      "cell_type": "markdown",
      "metadata": {
        "id": "9Cp_mT0zty3P"
      },
      "source": [
        "### Plotting digits"
      ]
    },
    {
      "cell_type": "code",
      "metadata": {
        "id": "vj7pMx2hty3R",
        "outputId": "bff48c05-248d-41e5-fcd5-6fe62daafcac",
        "colab": {
          "base_uri": "https://localhost:8080/",
          "height": 282
        }
      },
      "source": [
        "import matplotlib.pyplot as plt\n",
        "%matplotlib inline\n",
        "plt.imshow(x_train[0]) #plots the first digit stored in the training dataset"
      ],
      "execution_count": 15,
      "outputs": [
        {
          "output_type": "execute_result",
          "data": {
            "text/plain": [
              "<matplotlib.image.AxesImage at 0x7f089aba0c10>"
            ]
          },
          "metadata": {},
          "execution_count": 15
        },
        {
          "output_type": "display_data",
          "data": {
            "text/plain": [
              "<Figure size 432x288 with 1 Axes>"
            ],
            "image/png": "[encoded data removed]"
          },
          "metadata": {
            "needs_background": "light"
          }
        }
      ]
    },
    {
      "cell_type": "code",
      "metadata": {
        "id": "Sx2XeDJ-ty3a",
        "outputId": "f3f699c8-75f3-4185-c029-878e147199cf",
        "colab": {
          "base_uri": "https://localhost:8080/",
          "height": 282
        }
      },
      "source": [
        "plt.imshow(x_test[0]) #plots the first digit stored in the testing dataset"
      ],
      "execution_count": 16,
      "outputs": [
        {
          "output_type": "execute_result",
          "data": {
            "text/plain": [
              "<matplotlib.image.AxesImage at 0x7f089ab07f90>"
            ]
          },
          "metadata": {},
          "execution_count": 16
        },
        {
          "output_type": "display_data",
          "data": {
            "text/plain": [
              "<Figure size 432x288 with 1 Axes>"
            ],
            "image/png": "[encoded data removed]"
          },
          "metadata": {
            "needs_background": "light"
          }
        }
      ]
    },
    {
      "cell_type": "markdown",
      "metadata": {
        "id": "-cJoxO-gty3l"
      },
      "source": [
        "### Casting inputs to float32"
      ]
    },
    {
      "cell_type": "code",
      "metadata": {
        "id": "ifw3qyEBty3n"
      },
      "source": [
        "x_train = x_train.astype('float32')\n",
        "x_test  = x_test.astype('float32')"
      ],
      "execution_count": 17,
      "outputs": []
    },
    {
      "cell_type": "markdown",
      "metadata": {
        "id": "GSiJF5J0ty36"
      },
      "source": [
        "### Normalizing the inputs"
      ]
    },
    {
      "cell_type": "code",
      "metadata": {
        "id": "uiwDoSNgty38"
      },
      "source": [
        "x_train /= 255\n",
        "x_test  /= 255"
      ],
      "execution_count": 18,
      "outputs": []
    },
    {
      "cell_type": "markdown",
      "metadata": {
        "id": "bac9WQD6g4TN"
      },
      "source": [
        "###Reshaping the dataset"
      ]
    },
    {
      "cell_type": "markdown",
      "metadata": {
        "id": "gjw4hbGCiCbD"
      },
      "source": [
        "Next, we need to reshape our dataset inputs (x_train and x_test) to the shape that our model expects when we train the model. The first number is the number of images (60,000 for x_train and 10,000 for x_test). Then comes the shape of each image (28x28). The last number is 1, which signifies that the images are greyscale."
      ]
    },
    {
      "cell_type": "code",
      "metadata": {
        "id": "5qe-uFwba2Vb"
      },
      "source": [
        "x_train = x_train.reshape(60000, 28, 28, 1)\n",
        "x_test = x_test.reshape(10000, 28, 28, 1)"
      ],
      "execution_count": 6,
      "outputs": []
    },
    {
      "cell_type": "markdown",
      "metadata": {
        "id": "YKsHKrFkty4E"
      },
      "source": [
        "### Converting labels to one-hot vectors"
      ]
    },
    {
      "cell_type": "code",
      "metadata": {
        "id": "_inee25Ety4F",
        "outputId": "ff24ffe5-7243-4468-901f-e931e8644970",
        "colab": {
          "base_uri": "https://localhost:8080/"
        }
      },
      "source": [
        "from keras.utils import np_utils\n",
        "\n",
        "NB_CLASSES = 10 # (number of classes)\n",
        "y_train_one_hot = np_utils.to_categorical(y_train, NB_CLASSES) \n",
        "y_test_one_hot  = np_utils.to_categorical(y_test, NB_CLASSES)\n",
        "print (\"Dimension of y_train_one_hot = \", y_train_one_hot.shape)\n",
        "print (\"Dimension of y_test_one_hot  = \", y_test_one_hot.shape)\n",
        "print (y_train[0], \"=>\", y_train_one_hot[0])\n",
        "print (y_test[0],  \"=>\", y_test_one_hot[0])"
      ],
      "execution_count": 19,
      "outputs": [
        {
          "output_type": "stream",
          "name": "stdout",
          "text": [
            "Dimension of y_train_one_hot =  (60000, 10)\n",
            "Dimension of y_test_one_hot  =  (10000, 10)\n",
            "5 => [0. 0. 0. 0. 0. 1. 0. 0. 0. 0.]\n",
            "7 => [0. 0. 0. 0. 0. 0. 0. 1. 0. 0.]\n"
          ]
        }
      ]
    },
    {
      "cell_type": "markdown",
      "metadata": {
        "id": "IvLumHv9ty4O"
      },
      "source": [
        "### Building the CNN model"
      ]
    },
    {
      "cell_type": "code",
      "metadata": {
        "id": "-TOU5-H_eDk5",
        "outputId": "433f86e9-1f6d-4883-967a-8c3c89537043",
        "colab": {
          "base_uri": "https://localhost:8080/"
        }
      },
      "source": [
        "from keras.models import Sequential\n",
        "from keras.layers import Dense, Conv2D, MaxPool2D, Flatten\n",
        "import keras\n",
        "\n",
        "model = Sequential()\n",
        "#C1 Convolutional Layer, padding='same' means the input and the output has the\n",
        "#same length\n",
        "model.add(Conv2D(filters=6, kernel_size=(5,5), strides=(1,1), \n",
        "                 activation='tanh', input_shape=(28,28, 1), padding='same'))\n",
        "#S2 Pooling Layer, padding='valid' means no padding\n",
        "model.add(MaxPool2D(pool_size=(2,2), strides=(1,1), padding='valid'))\n",
        "#C3 Convolutional Layer\n",
        "model.add(Conv2D(filters=16, kernel_size=(5,5), strides=(1,1), \n",
        "                 activation='tanh', padding='valid'))\n",
        "#S4 Pooling Layer\n",
        "model.add(MaxPool2D(pool_size=(2,2), strides=(2,2), padding='valid'))\n",
        "#C5 Convolutional Layer\n",
        "model.add(Conv2D(filters=120, kernel_size=(5,5), strides=(1,1), \n",
        "                 activation='tanh', padding='valid'))\n",
        "#Flatten the CNN output so that it can connect with the next\n",
        "#fully connected layer\n",
        "model.add(Flatten())\n",
        "#F6 Fully Connected Layer\n",
        "model.add(Dense(units=84, activation='tanh'))\n",
        "#Output Layer with softmax activation\n",
        "model.add(Dense(10, activation='softmax'))\n",
        "model.summary()"
      ],
      "execution_count": 20,
      "outputs": [
        {
          "output_type": "stream",
          "name": "stdout",
          "text": [
            "Model: \"sequential_1\"\n",
            "_________________________________________________________________\n",
            " Layer (type)                Output Shape              Param #   \n",
            "=================================================================\n",
            " conv2d_3 (Conv2D)           (None, 28, 28, 6)         156       \n",
            "                                                                 \n",
            " max_pooling2d_2 (MaxPooling  (None, 27, 27, 6)        0         \n",
            " 2D)                                                             \n",
            "                                                                 \n",
            " conv2d_4 (Conv2D)           (None, 23, 23, 16)        2416      \n",
            "                                                                 \n",
            " max_pooling2d_3 (MaxPooling  (None, 11, 11, 16)       0         \n",
            " 2D)                                                             \n",
            "                                                                 \n",
            " conv2d_5 (Conv2D)           (None, 7, 7, 120)         48120     \n",
            "                                                                 \n",
            " flatten_1 (Flatten)         (None, 5880)              0         \n",
            "                                                                 \n",
            " dense_2 (Dense)             (None, 84)                494004    \n",
            "                                                                 \n",
            " dense_3 (Dense)             (None, 10)                850       \n",
            "                                                                 \n",
            "=================================================================\n",
            "Total params: 545,546\n",
            "Trainable params: 545,546\n",
            "Non-trainable params: 0\n",
            "_________________________________________________________________\n"
          ]
        }
      ]
    },
    {
      "cell_type": "markdown",
      "metadata": {
        "id": "gbNKB3FRty4X"
      },
      "source": [
        "### Compiling the model"
      ]
    },
    {
      "cell_type": "code",
      "metadata": {
        "id": "h0NqGfXRty4Y"
      },
      "source": [
        "from keras.optimizers import SGD\n",
        "\n",
        "OPTIMIZER = SGD(learning_rate=0.1, momentum = 0.8)\n",
        "model.compile(optimizer=OPTIMIZER, loss=keras.losses.categorical_crossentropy, \n",
        "              metrics=['accuracy'])"
      ],
      "execution_count": 23,
      "outputs": []
    },
    {
      "cell_type": "markdown",
      "metadata": {
        "id": "O0dFmxXKty4h"
      },
      "source": [
        "### Fitting the model"
      ]
    },
    {
      "cell_type": "code",
      "metadata": {
        "id": "bogLH8ZsT-HH",
        "colab": {
          "base_uri": "https://localhost:8080/"
        },
        "outputId": "c3884d95-c84b-4e9b-a112-f510af6d59dd"
      },
      "source": [
        "from keras.callbacks import EarlyStopping\n",
        "\n",
        "ES = EarlyStopping(monitor='val_loss', min_delta=0.001, patience=2, verbose=1, mode='auto')\n",
        "\n",
        "model_history = model.fit(x=x_train, y=y_train_one_hot, \n",
        "                          epochs=20, batch_size=128, \n",
        "                          validation_split = 0.2,\n",
        "                          verbose=1,\n",
        "                          callbacks=[ES]\n",
        "                          )"
      ],
      "execution_count": 28,
      "outputs": [
        {
          "output_type": "stream",
          "name": "stdout",
          "text": [
            "Epoch 1/20\n",
            "375/375 [==============================] - 90s 238ms/step - loss: 0.0962 - accuracy: 0.9710 - val_loss: 0.0719 - val_accuracy: 0.9799\n",
            "Epoch 2/20\n",
            "375/375 [==============================] - 88s 235ms/step - loss: 0.0574 - accuracy: 0.9828 - val_loss: 0.0563 - val_accuracy: 0.9835\n",
            "Epoch 3/20\n",
            "375/375 [==============================] - 87s 232ms/step - loss: 0.0463 - accuracy: 0.9860 - val_loss: 0.0588 - val_accuracy: 0.9830\n",
            "Epoch 4/20\n",
            "375/375 [==============================] - 87s 233ms/step - loss: 0.0363 - accuracy: 0.9889 - val_loss: 0.0616 - val_accuracy: 0.9832\n",
            "Epoch 4: early stopping\n"
          ]
        }
      ]
    },
    {
      "cell_type": "markdown",
      "metadata": {
        "id": "g5ONisrMty4q"
      },
      "source": [
        "### Evaluating the model"
      ]
    },
    {
      "cell_type": "code",
      "metadata": {
        "id": "O7kggasgty4s",
        "outputId": "6441403c-cb24-4cd9-a83f-c248b69a8f9e",
        "colab": {
          "base_uri": "https://localhost:8080/"
        }
      },
      "source": [
        "score = model.evaluate(x_test, y_test_one_hot, verbose=2) \n",
        "print('Test accuracy:', score[1])"
      ],
      "execution_count": 29,
      "outputs": [
        {
          "output_type": "stream",
          "name": "stdout",
          "text": [
            "313/313 - 6s - loss: 0.0469 - accuracy: 0.9856 - 6s/epoch - 20ms/step\n",
            "Test accuracy: 0.9855999946594238\n"
          ]
        }
      ]
    },
    {
      "cell_type": "markdown",
      "metadata": {
        "id": "LatZgVljty43"
      },
      "source": [
        "### Predicting the class"
      ]
    },
    {
      "cell_type": "code",
      "metadata": {
        "id": "nJAEYvsity44",
        "outputId": "2dbed42d-1a0e-4718-9869-29855e399036",
        "colab": {
          "base_uri": "https://localhost:8080/"
        }
      },
      "source": [
        "y_probability = model.predict(x_test)\n",
        "y_classes = y_probability.argmax(axis=-1)\n",
        "print (\"True class = \", y_test[0], \"Predicted class = \", y_classes[0])"
      ],
      "execution_count": 30,
      "outputs": [
        {
          "output_type": "stream",
          "name": "stdout",
          "text": [
            "313/313 [==============================] - 8s 23ms/step\n",
            "True class =  7 Predicted class =  7\n"
          ]
        }
      ]
    },
    {
      "cell_type": "markdown",
      "metadata": {
        "id": "FPKfLDjuty4_"
      },
      "source": [
        "### Plotting the model performances"
      ]
    },
    {
      "cell_type": "code",
      "metadata": {
        "id": "JWJPrt7Mty5B",
        "outputId": "fa0be956-5688-46da-a0e3-dca801d05e3d",
        "colab": {
          "base_uri": "https://localhost:8080/",
          "height": 541
        }
      },
      "source": [
        "import matplotlib.pyplot as plt\n",
        "%matplotlib inline\n",
        "\n",
        "def plot_history(network_history):\n",
        "    plt.figure()\n",
        "    plt.xlabel('Epochs')\n",
        "    plt.ylabel('Loss')\n",
        "    plt.plot(network_history.history['loss'])\n",
        "    plt.plot(network_history.history['val_loss'])\n",
        "    plt.legend(['Training', 'Validation'])\n",
        "\n",
        "    plt.figure()\n",
        "    plt.xlabel('Epochs')\n",
        "    plt.ylabel('Accuracy')\n",
        "    plt.plot(network_history.history['accuracy'])\n",
        "    plt.plot(network_history.history['val_accuracy'])\n",
        "    plt.legend(['Training', 'Validation'], loc='lower right')\n",
        "    plt.show()\n",
        "\n",
        "plot_history(model_history)"
      ],
      "execution_count": 32,
      "outputs": [
        {
          "output_type": "display_data",
          "data": {
            "text/plain": [
              "<Figure size 432x288 with 1 Axes>"
            ],
            "image/png": "[encoded data removed]"
          },
          "metadata": {
            "needs_background": "light"
          }
        },
        {
          "output_type": "display_data",
          "data": {
            "text/plain": [
              "<Figure size 432x288 with 1 Axes>"
            ],
            "image/png": "[encoded data removed]"
          },
          "metadata": {
            "needs_background": "light"
          }
        }
      ]
    },
    {
      "cell_type": "markdown",
      "metadata": {
        "id": "v_cwTde_ty5I"
      },
      "source": [
        "### Saving the whole trained model"
      ]
    },
    {
      "cell_type": "code",
      "source": [
        "model.save('cnn_mnist_model')"
      ],
      "metadata": {
        "id": "wv4rejKZ-jKq",
        "outputId": "ee924ac1-e57f-4372-96c7-eb1a7efc6b1b",
        "colab": {
          "base_uri": "https://localhost:8080/"
        }
      },
      "execution_count": 34,
      "outputs": [
        {
          "output_type": "stream",
          "name": "stderr",
          "text": [
            "WARNING:absl:Found untraced functions such as _jit_compiled_convolution_op, _jit_compiled_convolution_op, _jit_compiled_convolution_op while saving (showing 3 of 3). These functions will not be directly callable after loading.\n"
          ]
        }
      ]
    },
    {
      "cell_type": "markdown",
      "source": [
        "###Loading the saved model"
      ],
      "metadata": {
        "id": "3a2uYpVeA9UJ"
      }
    },
    {
      "cell_type": "code",
      "source": [
        "saved_model = keras.models.load_model('cnn_mnist_model')"
      ],
      "metadata": {
        "id": "jaLXwsdH_GJx"
      },
      "execution_count": 35,
      "outputs": []
    },
    {
      "cell_type": "code",
      "source": [
        "saved_model.summary()"
      ],
      "metadata": {
        "id": "dwfQ-413Aiz3",
        "outputId": "2a232e90-6928-4324-81b2-3d0ac692253b",
        "colab": {
          "base_uri": "https://localhost:8080/"
        }
      },
      "execution_count": 38,
      "outputs": [
        {
          "output_type": "stream",
          "name": "stdout",
          "text": [
            "Model: \"sequential_1\"\n",
            "_________________________________________________________________\n",
            " Layer (type)                Output Shape              Param #   \n",
            "=================================================================\n",
            " conv2d_3 (Conv2D)           (None, 28, 28, 6)         156       \n",
            "                                                                 \n",
            " max_pooling2d_2 (MaxPooling  (None, 27, 27, 6)        0         \n",
            " 2D)                                                             \n",
            "                                                                 \n",
            " conv2d_4 (Conv2D)           (None, 23, 23, 16)        2416      \n",
            "                                                                 \n",
            " max_pooling2d_3 (MaxPooling  (None, 11, 11, 16)       0         \n",
            " 2D)                                                             \n",
            "                                                                 \n",
            " conv2d_5 (Conv2D)           (None, 7, 7, 120)         48120     \n",
            "                                                                 \n",
            " flatten_1 (Flatten)         (None, 5880)              0         \n",
            "                                                                 \n",
            " dense_2 (Dense)             (None, 84)                494004    \n",
            "                                                                 \n",
            " dense_3 (Dense)             (None, 10)                850       \n",
            "                                                                 \n",
            "=================================================================\n",
            "Total params: 545,546\n",
            "Trainable params: 545,546\n",
            "Non-trainable params: 0\n",
            "_________________________________________________________________\n"
          ]
        }
      ]
    },
    {
      "cell_type": "code",
      "source": [
        "score = saved_model.evaluate(x_test, y_test_one_hot, verbose=0) \n",
        "print('Test accuracy:', score[1])"
      ],
      "metadata": {
        "id": "xV9Do0JJ_cZo",
        "outputId": "2e56182a-99d1-4917-a8c8-16c55a1c2e44",
        "colab": {
          "base_uri": "https://localhost:8080/"
        }
      },
      "execution_count": 36,
      "outputs": [
        {
          "output_type": "stream",
          "name": "stdout",
          "text": [
            "Test accuracy: 0.9855999946594238\n"
          ]
        }
      ]
    },
    {
      "cell_type": "code",
      "source": [
        "y_probability = saved_model.predict(x_test)\n",
        "y_classes = y_probability.argmax(axis=-1)\n",
        "print (\"True class = \", y_test[0], \"Predicted class = \", y_classes[0])"
      ],
      "metadata": {
        "id": "khCsGQk__6Zz",
        "outputId": "9c8881e1-5cae-4dd9-c813-c2b57e73dcfa",
        "colab": {
          "base_uri": "https://localhost:8080/"
        }
      },
      "execution_count": 37,
      "outputs": [
        {
          "output_type": "stream",
          "name": "stdout",
          "text": [
            "313/313 [==============================] - 7s 23ms/step\n",
            "True class =  7 Predicted class =  7\n"
          ]
        }
      ]
    }
  ]
}