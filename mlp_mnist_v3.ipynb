{
  "cells": [
    {
      "cell_type": "markdown",
      "metadata": {
        "id": "view-in-github",
        "colab_type": "text"
      },
      "source": [
        "<a href=\"https://colab.research.google.com/github/tgi25/home/blob/master/mlp_mnist_v3.ipynb\" target=\"_parent\"><img src=\"https://colab.research.google.com/assets/colab-badge.svg\" alt=\"Open In Colab\"/></a>"
      ]
    },
    {
      "cell_type": "markdown",
      "metadata": {
        "id": "gydG9ysGicVV"
      },
      "source": [
        "# Keras - Classifying MNIST dataset with MLP (Version 3)"
      ]
    },
    {
      "cell_type": "markdown",
      "metadata": {
        "id": "zmCteoPDicVZ"
      },
      "source": [
        "From Wikipedia, the free encyclopedia (https://en.wikipedia.org/wiki/MNIST_database)\n",
        "\n",
        "The MNIST database (Modified National Institute of Standards and Technology database) is a large database of handwritten digits that is commonly used for training various image processing systems.The database is also widely used for training and testing in the field of machine learning. It was created by \"re-mixing\" the samples from NIST's original datasets. The creators felt that since NIST's training dataset was taken from American Census Bureau employees, while the testing dataset was taken from American high school students, it was not well-suited for machine learning experiments. Furthermore, the black and white images from NIST were normalized to fit into a 28x28 pixel bounding box and anti-aliased, which introduced grayscale levels.\n",
        "\n",
        "The MNIST database contains 60,000 training images and 10,000 testing images. Half of the training set and half of the test set were taken from NIST's training dataset, while the other half of the training set and the other half of the test set were taken from NIST's testing dataset. There have been a number of scientific papers on attempts to achieve the lowest error rate; one paper, using a hierarchical system of convolutional neural networks, manages to get an error rate on the MNIST database of 0.23 percent. The original creators of the database keep a list of some of the methods tested on it. In their original paper, they use a support vector machine to get an error rate of 0.8 percent.An extended dataset similar to MNIST called EMNIST has been published in 2017, which contains 240,000 training images, and 40,000 testing images of handwritten digits.\n",
        "\n",
        "THE MNIST DATABASE of handwritten digits - http://yann.lecun.com/exdb/mnist/"
      ]
    },
    {
      "cell_type": "markdown",
      "source": [
        "### Importing Keras"
      ],
      "metadata": {
        "id": "Al5GDiL-kmhE"
      }
    },
    {
      "cell_type": "code",
      "source": [
        "from tensorflow import keras"
      ],
      "metadata": {
        "id": "lDv8jhHqkMdG"
      },
      "execution_count": null,
      "outputs": []
    },
    {
      "cell_type": "markdown",
      "metadata": {
        "id": "YUQOTrebicVZ"
      },
      "source": [
        "### Loading the MNIST dataset"
      ]
    },
    {
      "cell_type": "code",
      "execution_count": null,
      "metadata": {
        "id": "vvYO7NdMicVa"
      },
      "outputs": [],
      "source": [
        "from keras.datasets import mnist #importing the MNIST dataset\n",
        "(x_train, y_train), (x_test, y_test) = mnist.load_data()\n",
        "print (\"x_train shape = \", x_train.shape, \"y_train shape = \", y_train.shape)\n",
        "print (\"x_test shape = \", x_test.shape, \"y_test shape = \", y_test.shape)"
      ]
    },
    {
      "cell_type": "markdown",
      "metadata": {
        "id": "d9IQA82QicVb"
      },
      "source": [
        "### Plotting digits"
      ]
    },
    {
      "cell_type": "code",
      "execution_count": null,
      "metadata": {
        "id": "4aTkfG7QicVc"
      },
      "outputs": [],
      "source": [
        "import matplotlib.pyplot as plt\n",
        "%matplotlib inline\n",
        "plt.imshow(x_train[0]) #plots the first digit stored in the training dataset"
      ]
    },
    {
      "cell_type": "code",
      "execution_count": null,
      "metadata": {
        "id": "2_EMTDyTicVc"
      },
      "outputs": [],
      "source": [
        "plt.imshow(x_test[0]) #plots the first digit stored in the testing dataset"
      ]
    },
    {
      "cell_type": "markdown",
      "metadata": {
        "id": "9BHr1O_zicVd"
      },
      "source": [
        "### Casting inputs to float32"
      ]
    },
    {
      "cell_type": "code",
      "execution_count": null,
      "metadata": {
        "collapsed": true,
        "id": "G1ttwMzaicVd"
      },
      "outputs": [],
      "source": [
        "x_train = x_train.astype('float32')\n",
        "x_test  = x_test.astype('float32')"
      ]
    },
    {
      "cell_type": "markdown",
      "metadata": {
        "id": "2hn4caRticVd"
      },
      "source": [
        "### Reshaping inputs"
      ]
    },
    {
      "cell_type": "code",
      "execution_count": null,
      "metadata": {
        "id": "3delHivpicVe"
      },
      "outputs": [],
      "source": [
        "INPUT_DIM = 784 #28 by 28\n",
        "\n",
        "x_train_reshape = x_train.reshape(60000, INPUT_DIM)\n",
        "x_test_reshape = x_test.reshape(10000, INPUT_DIM)\n",
        "print (x_train.shape, \"=>\", x_train_reshape.shape)\n",
        "print (x_test.shape,  \"=>\", x_test_reshape.shape)"
      ]
    },
    {
      "cell_type": "markdown",
      "metadata": {
        "id": "KT702xFNicVe"
      },
      "source": [
        "### Normalizing the inputs"
      ]
    },
    {
      "cell_type": "code",
      "execution_count": null,
      "metadata": {
        "collapsed": true,
        "id": "WuCkhIFxicVf"
      },
      "outputs": [],
      "source": [
        "x_train_reshape /= 255\n",
        "x_test_reshape  /= 255"
      ]
    },
    {
      "cell_type": "markdown",
      "metadata": {
        "id": "UmCGbXn-icVf"
      },
      "source": [
        "### Converting labels to one-hot vectors"
      ]
    },
    {
      "cell_type": "code",
      "execution_count": null,
      "metadata": {
        "id": "C41XvheTicVf"
      },
      "outputs": [],
      "source": [
        "from keras.utils import np_utils\n",
        "\n",
        "NB_CLASSES = 10 # (number of classes)\n",
        "y_train_one_hot = np_utils.to_categorical(y_train, NB_CLASSES) #nb_classes = 10 (number of classes)\n",
        "y_test_one_hot  = np_utils.to_categorical(y_test, NB_CLASSES)\n",
        "print (\"Dimension of y_train_one_hot = \", y_train_one_hot.shape)\n",
        "print (\"Dimension of y_test_one_hot  = \", y_test_one_hot.shape)\n",
        "print (y_train[0], \"=>\", y_train_one_hot[0])\n",
        "print (y_test[0],  \"=>\", y_test_one_hot[0])"
      ]
    },
    {
      "cell_type": "markdown",
      "metadata": {
        "id": "eVD8CV7xicVf"
      },
      "source": [
        "### Building the MLP model"
      ]
    },
    {
      "cell_type": "code",
      "execution_count": null,
      "metadata": {
        "id": "1xMISQmgicVf"
      },
      "outputs": [],
      "source": [
        "from keras.models import Sequential\n",
        "from keras.layers import Dense, Activation\n",
        "\n",
        "#MLP - Two hidden layers (512 neurons in each layer) + Softmax layer (10 classes)\n",
        "model = Sequential()\n",
        "model.add(Dense(512, activation='relu', input_shape=(INPUT_DIM,)))\n",
        "model.add(Dense(512, activation='relu'))\n",
        "model.add(Dense(10, activation='softmax'))\n",
        "model.summary()"
      ]
    },
    {
      "cell_type": "markdown",
      "metadata": {
        "id": "Gtjow5rQicVg"
      },
      "source": [
        "### Compiling the model"
      ]
    },
    {
      "cell_type": "code",
      "execution_count": null,
      "metadata": {
        "collapsed": true,
        "id": "8d4OKa1cicVg"
      },
      "outputs": [],
      "source": [
        "OPTIMIZER = keras.optimizers.SGD(learning_rate=0.1, momentum = 0.8)\n",
        "model.compile(optimizer=OPTIMIZER, loss='categorical_crossentropy', metrics=['accuracy'])"
      ]
    },
    {
      "cell_type": "markdown",
      "metadata": {
        "id": "E8Aj_yBdicVg"
      },
      "source": [
        "### Fitting the model with early stopping criteria"
      ]
    },
    {
      "cell_type": "code",
      "execution_count": null,
      "metadata": {
        "id": "-0M2MOjJicVg"
      },
      "outputs": [],
      "source": [
        "from keras.callbacks import EarlyStopping\n",
        "\n",
        "BATCH_SIZE = 128\n",
        "EPOCHES = 20\n",
        "VERBOSE = 1\n",
        "VALIDATION_SPLIT = 0.2\n",
        "\n",
        "#Monitor the validation lost and if it is not improved (min_delta=0.001) for 2 (patience=2) epoches stops \n",
        "#the training, mode = direction of improvement (increase/decrease) - auto means Keras decides it automatically \n",
        "ES = EarlyStopping(monitor='val_loss', min_delta=0.001, patience=2, verbose=VERBOSE, mode='auto')\n",
        "\n",
        "model_history = model.fit(x=x_train_reshape, y=y_train_one_hot, batch_size=BATCH_SIZE, \n",
        "                          epochs=EPOCHES, verbose=VERBOSE, validation_split=VALIDATION_SPLIT, \n",
        "                          callbacks=[ES])"
      ]
    },
    {
      "cell_type": "markdown",
      "metadata": {
        "id": "sOSqsiWRicVg"
      },
      "source": [
        "### Evaluating the model"
      ]
    },
    {
      "cell_type": "code",
      "execution_count": null,
      "metadata": {
        "id": "t-4gpZ_ticVh"
      },
      "outputs": [],
      "source": [
        "score = model.evaluate(x_test_reshape, y_test_one_hot, verbose=2) \n",
        "print('Test score:', score[0]) \n",
        "print('Test accuracy:', score[1])"
      ]
    },
    {
      "cell_type": "markdown",
      "metadata": {
        "id": "kVnLHGnYicVh"
      },
      "source": [
        "### Predicting the class"
      ]
    },
    {
      "cell_type": "code",
      "execution_count": null,
      "metadata": {
        "id": "sSJBZJGnicVh"
      },
      "outputs": [],
      "source": [
        "y_probability = model.predict(x_test_reshape)\n",
        "y_classes = y_probability.argmax(axis=-1)\n",
        "print (\"True class = \", y_test[0], \"Predicted class = \", y_classes[0])"
      ]
    },
    {
      "cell_type": "markdown",
      "metadata": {
        "id": "3c98brAoicVh"
      },
      "source": [
        "### Plotting the model performances"
      ]
    },
    {
      "cell_type": "code",
      "execution_count": null,
      "metadata": {
        "id": "jURKPYmVicVh"
      },
      "outputs": [],
      "source": [
        "import matplotlib.pyplot as plt\n",
        "%matplotlib inline\n",
        "\n",
        "def plot_history(network_history):\n",
        "    plt.figure()\n",
        "    plt.xlabel('Epochs')\n",
        "    plt.ylabel('Loss')\n",
        "    plt.plot(network_history.history['loss'])\n",
        "    plt.plot(network_history.history['val_loss'])\n",
        "    plt.legend(['Training', 'Validation'])\n",
        "\n",
        "    plt.figure()\n",
        "    plt.xlabel('Epochs')\n",
        "    plt.ylabel('Accuracy')\n",
        "    plt.plot(network_history.history['accuracy'])\n",
        "    plt.plot(network_history.history['val_accuracy'])\n",
        "    plt.legend(['Training', 'Validation'], loc='lower right')\n",
        "    plt.show()\n",
        "\n",
        "plot_history(model_history)"
      ]
    },
    {
      "cell_type": "markdown",
      "metadata": {
        "id": "jCcx08iOicVh"
      },
      "source": [
        "### Saving the trained model and its weights"
      ]
    },
    {
      "cell_type": "code",
      "execution_count": null,
      "metadata": {
        "collapsed": true,
        "id": "yrLgFVUpicVi"
      },
      "outputs": [],
      "source": [
        "json_string = model.to_json() # as json \n",
        "open('mlp_mnist_v2_model.json', 'w').write(json_string)\n",
        "# save the weights in h5 format \n",
        "model.save_weights('mlp_mnist_v2_wts.h5')"
      ]
    },
    {
      "cell_type": "markdown",
      "metadata": {
        "id": "tHiewrdkicVi"
      },
      "source": [
        "### Retrieving a trained model and its weights"
      ]
    },
    {
      "cell_type": "code",
      "execution_count": null,
      "metadata": {
        "id": "VTP-J6UmicVi"
      },
      "outputs": [],
      "source": [
        "from keras.models import model_from_json\n",
        "model1 = model_from_json(open('mlp_mnist_v2_model.json').read())\n",
        "model1.load_weights('mlp_mnist_v2_wts.h5')\n",
        "model1.summary()\n",
        "model1.compile(optimizer='sgd', loss='categorical_crossentropy', metrics=['accuracy'])\n",
        "score = model1.evaluate(x_test_reshape, y_test_one_hot, verbose=0) \n",
        "print('Test score:', score[0]) \n",
        "print('Test accuracy:', score[1])\n",
        "\n",
        "y_probability = model.predict(x_test_reshape)\n",
        "y_classes = y_probability.argmax(axis=-1)\n",
        "print (\"True class = \", y_test[0], \"Predicted class = \", y_classes[0])"
      ]
    }
  ],
  "metadata": {
    "kernelspec": {
      "display_name": "Python 3",
      "name": "python3"
    },
    "language_info": {
      "name": "python"
    },
    "colab": {
      "name": "mlp_mnist_v3_momentum.ipynb",
      "provenance": [],
      "include_colab_link": true
    },
    "gpuClass": "standard"
  },
  "nbformat": 4,
  "nbformat_minor": 0
}